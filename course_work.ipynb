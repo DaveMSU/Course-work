{
  "nbformat": 4,
  "nbformat_minor": 0,
  "metadata": {
    "colab": {
      "name": "course_work_1",
      "provenance": [],
      "collapsed_sections": [],
      "toc_visible": true
    },
    "kernelspec": {
      "name": "python3",
      "display_name": "Python 3"
    },
    "accelerator": "GPU"
  },
  "cells": [
    {
      "cell_type": "markdown",
      "metadata": {
        "id": "K-BAqDEY4ldv",
        "colab_type": "text"
      },
      "source": [
        "## Классификация новостей [AG's News Topic Classification Dataset](https://github.com/mhjabreel/CharCnn_Keras/tree/master/data/ag_news_csv)\n",
        "\n",
        "Используется три архитектуры нейронных сетей:\n",
        "- Полносвязная нейронная сеть - NN\n",
        "- Одномерная сверточная нейросеть - CNN\n",
        "- Рекуррентная нейронная сеть - LSTM"
      ]
    },
    {
      "cell_type": "code",
      "metadata": {
        "id": "y8RHEVbJqeMW",
        "colab_type": "code",
        "outputId": "913a4bf2-d089-44b1-e059-52130abd5e32",
        "colab": {
          "base_uri": "https://localhost:8080/",
          "height": 160
        }
      },
      "source": [
        "# Для отсутствия лишних предупреждений.\n",
        "import warnings\n",
        "warnings.filterwarnings(\"ignore\")\n",
        "\n",
        "import pandas as pd\n",
        "import numpy  as np\n",
        "\n",
        "# Для визуализации гистограммы распределения кол-ва слов в описаниях книг.\n",
        "from matplotlib import pyplot as plt\n",
        "\n",
        "# Для логирования.\n",
        "from tqdm import tqdm\n",
        "\n",
        "# Для лемматизации и нормализации текстов.\n",
        "!pip install pymorphy2 \n",
        "!pip install nltk\n",
        "import re\n",
        "import nltk\n",
        "import pymorphy2\n",
        "from   nltk.corpus import stopwords\n",
        "nltk.download('stopwords')\n",
        "\n",
        "# Для получений эмбедингов текстов посредством мешков слов - для KNN.\n",
        "from sklearn.feature_extraction.text import CountVectorizer\n",
        "from sklearn.feature_extraction.text import TfidfVectorizer\n",
        "\n",
        "# Для корректной валидации.\n",
        "from sklearn.model_selection import cross_val_score\n",
        "from sklearn.model_selection import train_test_split\n",
        "from sklearn.metrics import make_scorer\n",
        "\n",
        "# Для подсчёта метрики качества регрессии.\n",
        "from sklearn.metrics import mean_squared_error\n",
        "from sklearn.metrics import mean_absolute_error\n",
        "from sklearn.metrics import mean_squared_log_error\n",
        "\n",
        "# Для подсчёта метрики качества классификации.\n",
        "from sklearn.metrics import f1_score\n",
        "from sklearn.metrics import roc_auc_score\n",
        "from sklearn.metrics import accuracy_score\n",
        "from sklearn.metrics import matthews_corrcoef\n",
        "\n",
        "# Для подбора лучших параметров модели.\n",
        "from sklearn.model_selection import GridSearchCV"
      ],
      "execution_count": 0,
      "outputs": [
        {
          "output_type": "stream",
          "text": [
            "Requirement already satisfied: pymorphy2 in /usr/local/lib/python3.6/dist-packages (0.8)\n",
            "Requirement already satisfied: pymorphy2-dicts<3.0,>=2.4 in /usr/local/lib/python3.6/dist-packages (from pymorphy2) (2.4.393442.3710985)\n",
            "Requirement already satisfied: dawg-python>=0.7 in /usr/local/lib/python3.6/dist-packages (from pymorphy2) (0.7.2)\n",
            "Requirement already satisfied: docopt>=0.6 in /usr/local/lib/python3.6/dist-packages (from pymorphy2) (0.6.2)\n",
            "Requirement already satisfied: nltk in /usr/local/lib/python3.6/dist-packages (3.2.5)\n",
            "Requirement already satisfied: six in /usr/local/lib/python3.6/dist-packages (from nltk) (1.12.0)\n",
            "[nltk_data] Downloading package stopwords to /root/nltk_data...\n",
            "[nltk_data]   Package stopwords is already up-to-date!\n"
          ],
          "name": "stdout"
        }
      ]
    },
    {
      "cell_type": "code",
      "metadata": {
        "id": "fN251ib04idq",
        "colab_type": "code",
        "colab": {}
      },
      "source": [
        "%tensorflow_version 2.x\n",
        "from tensorflow.keras.models import Sequential\n",
        "from tensorflow.keras.layers import Dense, Embedding, MaxPooling1D, Conv1D, GlobalMaxPooling1D, Dropout, LSTM, Flatten\n",
        "from tensorflow.keras import utils\n",
        "from tensorflow.keras.preprocessing.sequence import pad_sequences\n",
        "from tensorflow.keras.preprocessing.text import Tokenizer\n",
        "from tensorflow.keras.callbacks import ModelCheckpoint\n",
        "from tensorflow.keras import utils\n",
        "import pandas as pd\n",
        "import numpy as np\n",
        "import matplotlib.pyplot as plt\n",
        "%matplotlib inline "
      ],
      "execution_count": 0,
      "outputs": []
    },
    {
      "cell_type": "code",
      "metadata": {
        "id": "KVUY1PF0L_mF",
        "colab_type": "code",
        "colab": {}
      },
      "source": [
        "# Максимальное количество слов \n",
        "num_words = 10000\n",
        "# Максимальная длина новости\n",
        "max_news_len = 30\n",
        "# Количество классов новостей\n",
        "nb_classes = 4"
      ],
      "execution_count": 0,
      "outputs": []
    },
    {
      "cell_type": "markdown",
      "metadata": {
        "id": "S6itvI2G5H1k",
        "colab_type": "text"
      },
      "source": [
        "## Загрузка набора данных"
      ]
    },
    {
      "cell_type": "markdown",
      "metadata": {
        "id": "-koXVGyC1odV",
        "colab_type": "text"
      },
      "source": [
        "Загружаем данные для обучения"
      ]
    },
    {
      "cell_type": "code",
      "metadata": {
        "id": "TYf3S7he5KIU",
        "colab_type": "code",
        "outputId": "18c3f20f-6d8f-4e4c-870d-2055f5a549de",
        "colab": {
          "base_uri": "https://localhost:8080/",
          "height": 304
        }
      },
      "source": [
        "!wget https://github.com/mhjabreel/CharCnn_Keras/raw/master/data/ag_news_csv/train.csv -O train.csv"
      ],
      "execution_count": 0,
      "outputs": [
        {
          "output_type": "stream",
          "text": [
            "--2020-06-05 17:58:23--  https://github.com/mhjabreel/CharCnn_Keras/raw/master/data/ag_news_csv/train.csv\n",
            "Resolving github.com (github.com)... 13.250.177.223\n",
            "Connecting to github.com (github.com)|13.250.177.223|:443... connected.\n",
            "HTTP request sent, awaiting response... 302 Found\n",
            "Location: https://raw.githubusercontent.com/mhjabreel/CharCnn_Keras/master/data/ag_news_csv/train.csv [following]\n",
            "--2020-06-05 17:58:23--  https://raw.githubusercontent.com/mhjabreel/CharCnn_Keras/master/data/ag_news_csv/train.csv\n",
            "Resolving raw.githubusercontent.com (raw.githubusercontent.com)... 151.101.0.133, 151.101.64.133, 151.101.128.133, ...\n",
            "Connecting to raw.githubusercontent.com (raw.githubusercontent.com)|151.101.0.133|:443... connected.\n",
            "HTTP request sent, awaiting response... 200 OK\n",
            "Length: 29470338 (28M) [text/plain]\n",
            "Saving to: ‘train.csv’\n",
            "\n",
            "train.csv           100%[===================>]  28.10M  --.-KB/s    in 0.1s    \n",
            "\n",
            "2020-06-05 17:58:26 (246 MB/s) - ‘train.csv’ saved [29470338/29470338]\n",
            "\n"
          ],
          "name": "stdout"
        }
      ]
    },
    {
      "cell_type": "markdown",
      "metadata": {
        "id": "5HrnxF5Z1uO7",
        "colab_type": "text"
      },
      "source": [
        "Загружаем данные для тестирования"
      ]
    },
    {
      "cell_type": "code",
      "metadata": {
        "id": "jCmKO8zM1tZT",
        "colab_type": "code",
        "outputId": "55a56f93-4b93-4d6f-e55f-3f4092de56cb",
        "colab": {
          "base_uri": "https://localhost:8080/",
          "height": 304
        }
      },
      "source": [
        "!wget https://github.com/mhjabreel/CharCnn_Keras/raw/master/data/ag_news_csv/test.csv -O test.csv"
      ],
      "execution_count": 0,
      "outputs": [
        {
          "output_type": "stream",
          "text": [
            "--2020-06-05 17:58:29--  https://github.com/mhjabreel/CharCnn_Keras/raw/master/data/ag_news_csv/test.csv\n",
            "Resolving github.com (github.com)... 52.74.223.119\n",
            "Connecting to github.com (github.com)|52.74.223.119|:443... connected.\n",
            "HTTP request sent, awaiting response... 302 Found\n",
            "Location: https://raw.githubusercontent.com/mhjabreel/CharCnn_Keras/master/data/ag_news_csv/test.csv [following]\n",
            "--2020-06-05 17:58:30--  https://raw.githubusercontent.com/mhjabreel/CharCnn_Keras/master/data/ag_news_csv/test.csv\n",
            "Resolving raw.githubusercontent.com (raw.githubusercontent.com)... 151.101.0.133, 151.101.64.133, 151.101.128.133, ...\n",
            "Connecting to raw.githubusercontent.com (raw.githubusercontent.com)|151.101.0.133|:443... connected.\n",
            "HTTP request sent, awaiting response... 200 OK\n",
            "Length: 1857427 (1.8M) [text/plain]\n",
            "Saving to: ‘test.csv’\n",
            "\n",
            "test.csv            100%[===================>]   1.77M  --.-KB/s    in 0.03s   \n",
            "\n",
            "2020-06-05 17:58:32 (57.3 MB/s) - ‘test.csv’ saved [1857427/1857427]\n",
            "\n"
          ],
          "name": "stdout"
        }
      ]
    },
    {
      "cell_type": "markdown",
      "metadata": {
        "id": "HsRzWdOL1z17",
        "colab_type": "text"
      },
      "source": [
        "Загружаем имена классов"
      ]
    },
    {
      "cell_type": "code",
      "metadata": {
        "id": "RH95SEXB5R0V",
        "colab_type": "code",
        "outputId": "551a92a4-d0e2-4713-df61-7993af972913",
        "colab": {
          "base_uri": "https://localhost:8080/",
          "height": 214
        }
      },
      "source": [
        "!wget https://raw.githubusercontent.com/mhjabreel/CharCnn_Keras/master/data/ag_news_csv/classes.txt -O classes.txt"
      ],
      "execution_count": 0,
      "outputs": [
        {
          "output_type": "stream",
          "text": [
            "--2020-06-05 17:58:37--  https://raw.githubusercontent.com/mhjabreel/CharCnn_Keras/master/data/ag_news_csv/classes.txt\n",
            "Resolving raw.githubusercontent.com (raw.githubusercontent.com)... 151.101.0.133, 151.101.64.133, 151.101.128.133, ...\n",
            "Connecting to raw.githubusercontent.com (raw.githubusercontent.com)|151.101.0.133|:443... connected.\n",
            "HTTP request sent, awaiting response... 200 OK\n",
            "Length: 31 [text/plain]\n",
            "Saving to: ‘classes.txt’\n",
            "\n",
            "\rclasses.txt           0%[                    ]       0  --.-KB/s               \rclasses.txt         100%[===================>]      31  --.-KB/s    in 0s      \n",
            "\n",
            "2020-06-05 17:58:38 (2.37 MB/s) - ‘classes.txt’ saved [31/31]\n",
            "\n"
          ],
          "name": "stdout"
        }
      ]
    },
    {
      "cell_type": "markdown",
      "metadata": {
        "id": "131Gk9fzGVMg",
        "colab_type": "text"
      },
      "source": [
        "## Просматриваем данные"
      ]
    },
    {
      "cell_type": "code",
      "metadata": {
        "id": "V116c5A82IeD",
        "colab_type": "code",
        "outputId": "cf5a9570-0cf3-4705-8c86-688ad460a15f",
        "colab": {
          "base_uri": "https://localhost:8080/",
          "height": 34
        }
      },
      "source": [
        "!ls"
      ],
      "execution_count": 0,
      "outputs": [
        {
          "output_type": "stream",
          "text": [
            "classes.txt  sample_data  test.csv  train.csv\n"
          ],
          "name": "stdout"
        }
      ]
    },
    {
      "cell_type": "code",
      "metadata": {
        "id": "uRj7M24mGRmH",
        "colab_type": "code",
        "outputId": "a6e1dbb4-c547-4610-e605-59eae27a87fb",
        "colab": {
          "base_uri": "https://localhost:8080/",
          "height": 88
        }
      },
      "source": [
        "!cat classes.txt"
      ],
      "execution_count": 0,
      "outputs": [
        {
          "output_type": "stream",
          "text": [
            "World\n",
            "Sports\n",
            "Business\n",
            "Sci/Tech\n"
          ],
          "name": "stdout"
        }
      ]
    },
    {
      "cell_type": "code",
      "metadata": {
        "id": "k6_oiP9NGlI2",
        "colab_type": "code",
        "outputId": "abe37618-3420-4122-e1f6-5fb7ac0663ea",
        "colab": {
          "base_uri": "https://localhost:8080/",
          "height": 216
        }
      },
      "source": [
        "!head train.csv"
      ],
      "execution_count": 0,
      "outputs": [
        {
          "output_type": "stream",
          "text": [
            "\"3\",\"Wall St. Bears Claw Back Into the Black (Reuters)\",\"Reuters - Short-sellers, Wall Street's dwindling\\band of ultra-cynics, are seeing green again.\"\n",
            "\"3\",\"Carlyle Looks Toward Commercial Aerospace (Reuters)\",\"Reuters - Private investment firm Carlyle Group,\\which has a reputation for making well-timed and occasionally\\controversial plays in the defense industry, has quietly placed\\its bets on another part of the market.\"\n",
            "\"3\",\"Oil and Economy Cloud Stocks' Outlook (Reuters)\",\"Reuters - Soaring crude prices plus worries\\about the economy and the outlook for earnings are expected to\\hang over the stock market next week during the depth of the\\summer doldrums.\"\n",
            "\"3\",\"Iraq Halts Oil Exports from Main Southern Pipeline (Reuters)\",\"Reuters - Authorities have halted oil export\\flows from the main pipeline in southern Iraq after\\intelligence showed a rebel militia could strike\\infrastructure, an oil official said on Saturday.\"\n",
            "\"3\",\"Oil prices soar to all-time record, posing new menace to US economy (AFP)\",\"AFP - Tearaway world oil prices, toppling records and straining wallets, present a new economic menace barely three months before the US presidential elections.\"\n",
            "\"3\",\"Stocks End Up, But Near Year Lows (Reuters)\",\"Reuters - Stocks ended slightly higher on Friday\\but stayed near lows for the year as oil prices surged past  #36;46\\a barrel, offsetting a positive outlook from computer maker\\Dell Inc. (DELL.O)\"\n",
            "\"3\",\"Money Funds Fell in Latest Week (AP)\",\"AP - Assets of the nation's retail money market mutual funds fell by  #36;1.17 billion in the latest week to  #36;849.98 trillion, the Investment Company Institute said Thursday.\"\n",
            "\"3\",\"Fed minutes show dissent over inflation (USATODAY.com)\",\"USATODAY.com - Retail sales bounced back a bit in July, and new claims for jobless benefits fell last week, the government said Thursday, indicating the economy is improving from a midsummer slump.\"\n",
            "\"3\",\"Safety Net (Forbes.com)\",\"Forbes.com - After earning a PH.D. in Sociology, Danny Bazil Riley started to work as the general manager at a commercial real estate firm at an annual base salary of  #36;70,000. Soon after, a financial planner stopped by his desk to drop off brochures about insurance benefits available through his employer. But, at 32, \"\"buying insurance was the furthest thing from my mind,\"\" says Riley.\"\n",
            "\"3\",\"Wall St. Bears Claw Back Into the Black\",\" NEW YORK (Reuters) - Short-sellers, Wall Street's dwindling  band of ultra-cynics, are seeing green again.\"\n"
          ],
          "name": "stdout"
        }
      ]
    },
    {
      "cell_type": "code",
      "metadata": {
        "id": "QbfciZAYHNBb",
        "colab_type": "code",
        "outputId": "1ce1e039-1abe-46df-e778-c873921d9510",
        "colab": {
          "base_uri": "https://localhost:8080/",
          "height": 216
        }
      },
      "source": [
        "!head test.csv"
      ],
      "execution_count": 0,
      "outputs": [
        {
          "output_type": "stream",
          "text": [
            "\"3\",\"Fears for T N pension after talks\",\"Unions representing workers at Turner   Newall say they are 'disappointed' after talks with stricken parent firm Federal Mogul.\"\n",
            "\"4\",\"The Race is On: Second Private Team Sets Launch Date for Human Spaceflight (SPACE.com)\",\"SPACE.com - TORONTO, Canada -- A second\\team of rocketeers competing for the  #36;10 million Ansari X Prize, a contest for\\privately funded suborbital space flight, has officially announced the first\\launch date for its manned rocket.\"\n",
            "\"4\",\"Ky. Company Wins Grant to Study Peptides (AP)\",\"AP - A company founded by a chemistry researcher at the University of Louisville won a grant to develop a method of producing better peptides, which are short chains of amino acids, the building blocks of proteins.\"\n",
            "\"4\",\"Prediction Unit Helps Forecast Wildfires (AP)\",\"AP - It's barely dawn when Mike Fitzpatrick starts his shift with a blur of colorful maps, figures and endless charts, but already he knows what the day will bring. Lightning will strike in places he expects. Winds will pick up, moist places will dry and flames will roar.\"\n",
            "\"4\",\"Calif. Aims to Limit Farm-Related Smog (AP)\",\"AP - Southern California's smog-fighting agency went after emissions of the bovine variety Friday, adopting the nation's first rules to reduce air pollution from dairy cow manure.\"\n",
            "\"4\",\"Open Letter Against British Copyright Indoctrination in Schools\",\"The British Department for Education and Skills (DfES) recently launched a \"\"Music Manifesto\"\" campaign, with the ostensible intention of educating the next generation of British musicians. Unfortunately, they also teamed up with the music industry (EMI, and various artists) to make this popular. EMI has apparently negotiated their end well, so that children in our schools will now be indoctrinated about the illegality of downloading music.The ignorance and audacity of this got to me a little, so I wrote an open letter to the DfES about it. Unfortunately, it's pedantic, as I suppose you have to be when writing to goverment representatives. But I hope you find it useful, and perhaps feel inspired to do something similar, if or when the same thing has happened in your area.\"\n",
            "\"4\",\"Loosing the War on Terrorism\",\"\\\\\"\"Sven Jaschan, self-confessed author of the Netsky and Sasser viruses, is\\responsible for 70 percent of virus infections in 2004, according to a six-month\\virus roundup published Wednesday by antivirus company Sophos.\"\"\\\\\"\"The 18-year-old Jaschan was taken into custody in Germany in May by police who\\said he had admitted programming both the Netsky and Sasser worms, something\\experts at Microsoft confirmed. (A Microsoft antivirus reward program led to the\\teenager's arrest.) During the five months preceding Jaschan's capture, there\\were at least 25 variants of Netsky and one of the port-scanning network worm\\Sasser.\"\"\\\\\"\"Graham Cluley, senior technology consultant at Sophos, said it was staggeri ...\\\\\"\n",
            "\"4\",\"FOAFKey: FOAF, PGP, Key Distribution, and Bloom Filters\",\"\\\\FOAF/LOAF  and bloom filters have a lot of interesting properties for social\\network and whitelist distribution.\\\\I think we can go one level higher though and include GPG/OpenPGP key\\fingerpring distribution in the FOAF file for simple web-of-trust based key\\distribution.\\\\What if we used FOAF and included the PGP key fingerprint(s) for identities?\\This could mean a lot.  You include the PGP key fingerprints within the FOAF\\file of your direct friends and then include a bloom filter of the PGP key\\fingerprints of your entire whitelist (the source FOAF file would of course need\\to be encrypted ).\\\\Your whitelist would be populated from the social network as your client\\discovered new identit ...\\\\\"\n",
            "\"4\",\"E-mail scam targets police chief\",\"Wiltshire Police warns about \"\"phishing\"\" after its fraud squad chief was targeted.\"\n",
            "\"4\",\"Card fraud unit nets 36,000 cards\",\"In its first two years, the UK's dedicated card fraud unit, has recovered 36,000 stolen cards and 171 arrests - and estimates it saved 65m.\"\n"
          ],
          "name": "stdout"
        }
      ]
    },
    {
      "cell_type": "code",
      "metadata": {
        "id": "QHiCXhsTG835",
        "colab_type": "code",
        "outputId": "36d34970-1070-4944-84c1-aca23e573463",
        "colab": {
          "base_uri": "https://localhost:8080/",
          "height": 52
        }
      },
      "source": [
        "!wc -l train.csv\n",
        "!wc -l test.csv"
      ],
      "execution_count": 0,
      "outputs": [
        {
          "output_type": "stream",
          "text": [
            "120000 train.csv\n",
            "7600 test.csv\n"
          ],
          "name": "stdout"
        }
      ]
    },
    {
      "cell_type": "markdown",
      "metadata": {
        "id": "9YjyMnJOHoSY",
        "colab_type": "text"
      },
      "source": [
        "## Загружаем данные в память"
      ]
    },
    {
      "cell_type": "markdown",
      "metadata": {
        "id": "C6Hs3NIKKqEB",
        "colab_type": "text"
      },
      "source": [
        "Читаем данные из файла"
      ]
    },
    {
      "cell_type": "code",
      "metadata": {
        "id": "viAteYU0HakW",
        "colab_type": "code",
        "colab": {}
      },
      "source": [
        "train = pd.read_csv('train.csv', \n",
        "                    header=None, \n",
        "                    names=['class', 'title', 'text'])"
      ],
      "execution_count": 0,
      "outputs": []
    },
    {
      "cell_type": "code",
      "metadata": {
        "id": "rUHg-5iUqUS0",
        "colab_type": "code",
        "colab": {}
      },
      "source": [
        "test = pd.read_csv('test.csv', \n",
        "                    header=None, \n",
        "                    names=['class', 'title', 'text'])"
      ],
      "execution_count": 0,
      "outputs": []
    },
    {
      "cell_type": "code",
      "metadata": {
        "id": "MSN6Y5uoqEVd",
        "colab_type": "code",
        "colab": {}
      },
      "source": [
        "#Скрипт для Лематизации путем регульярного выражения.\n",
        "\n",
        "stop_words = stopwords.words(\"english\") + stopwords.words(\"russian\")\n",
        "TOKEN_RE = re.compile(r'[\\w^d]+')\n",
        "\n",
        "morph = pymorphy2.MorphAnalyzer()\n",
        "min_token_size = 2\n",
        "\n",
        "def tokenize_text(txt, min_token_size=min_token_size):\n",
        "  txt = txt.lower()\n",
        "  all_tokens = TOKEN_RE.findall(txt)\n",
        "  return [morph.parse(token)[0].normal_form \n",
        "          for token in all_tokens \n",
        "          if len(token) >= min_token_size \n",
        "            and token not in stop_words]"
      ],
      "execution_count": 0,
      "outputs": []
    },
    {
      "cell_type": "code",
      "metadata": {
        "id": "fBPlsiLMqwqw",
        "colab_type": "code",
        "outputId": "028a3c86-18ea-4e55-b751-f84ec79d5d80",
        "colab": {
          "base_uri": "https://localhost:8080/",
          "height": 52
        }
      },
      "source": [
        "%%time\n",
        "train['tokenized_text'] = train.text.apply(lambda x: tokenize_text(x)).apply(lambda x: ' '.join(x))\n",
        "test['tokenized_text']  = test.text.apply(lambda x:  tokenize_text(x)).apply(lambda x: ' '.join(x))"
      ],
      "execution_count": 0,
      "outputs": [
        {
          "output_type": "stream",
          "text": [
            "CPU times: user 1min 4s, sys: 184 ms, total: 1min 4s\n",
            "Wall time: 1min 4s\n"
          ],
          "name": "stdout"
        }
      ]
    },
    {
      "cell_type": "markdown",
      "metadata": {
        "id": "YcGQ8o6qq5aH",
        "colab_type": "text"
      },
      "source": [
        "##*k ближайших соседей* **KNN predict**"
      ]
    },
    {
      "cell_type": "code",
      "metadata": {
        "id": "92meDx3Rq2Vk",
        "colab_type": "code",
        "outputId": "bb3fb93f-ccac-4286-c3eb-0de0295f56bc",
        "colab": {
          "base_uri": "https://localhost:8080/",
          "height": 52
        }
      },
      "source": [
        "#%%time\n",
        "vectorizer = TfidfVectorizer(tokenizer=tokenize_text,\n",
        "                             max_df=0.8,\n",
        "                             min_df=2,\n",
        "                             ngram_range=(1,1))\n",
        "\n",
        "vectorizer.fit(train['tokenized_text'].to_list()+test['tokenized_text'].to_list())\n",
        "X_vectorized = vectorizer.transform(train['tokenized_text'].to_list())\n",
        "X_vect_test  = vectorizer.transform(test['tokenized_text'].to_list())\n",
        "print(X_vectorized.shape)\n",
        "print(X_vect_test.shape)"
      ],
      "execution_count": 0,
      "outputs": [
        {
          "output_type": "stream",
          "text": [
            "(120000, 39788)\n",
            "(7600, 39788)\n"
          ],
          "name": "stdout"
        }
      ]
    },
    {
      "cell_type": "code",
      "metadata": {
        "id": "RgbKqxxRsm8w",
        "colab_type": "code",
        "colab": {}
      },
      "source": [
        "y = train['class'].to_numpy()\n",
        "y_test_ = test['class'].to_numpy()"
      ],
      "execution_count": 0,
      "outputs": []
    },
    {
      "cell_type": "code",
      "metadata": {
        "id": "WFU600iCsjEt",
        "colab_type": "code",
        "colab": {}
      },
      "source": [
        "from sklearn.neighbors import KNeighborsClassifier\n",
        "model = KNeighborsClassifier()"
      ],
      "execution_count": 0,
      "outputs": []
    },
    {
      "cell_type": "code",
      "metadata": {
        "id": "bcaPutmwsjZC",
        "colab_type": "code",
        "outputId": "012c83da-bcdd-4507-f4a4-b40ae84bf05b",
        "colab": {
          "base_uri": "https://localhost:8080/",
          "height": 52
        }
      },
      "source": [
        "%%time\n",
        "model.fit(X_vectorized, y)\n",
        "y_pred = model.predict(X_vect_test)"
      ],
      "execution_count": 0,
      "outputs": [
        {
          "output_type": "stream",
          "text": [
            "CPU times: user 18.7 s, sys: 86.8 ms, total: 18.8 s\n",
            "Wall time: 18.8 s\n"
          ],
          "name": "stdout"
        }
      ]
    },
    {
      "cell_type": "code",
      "metadata": {
        "id": "_vLSjr4wu5h5",
        "colab_type": "code",
        "outputId": "2e0654c1-4c5e-467b-b1e9-60a80992460e",
        "colab": {
          "base_uri": "https://localhost:8080/",
          "height": 70
        }
      },
      "source": [
        "f1_scr  = f1_score(y_pred, y_test_, average='macro')\n",
        "acc_scr = accuracy_score(y_pred, y_test_)\n",
        "crr_scr = matthews_corrcoef(y_pred, y_test_)\n",
        "\n",
        "print('F1:   %.3f' % f1_scr)\n",
        "print('ACC:  %.3f' % acc_scr)\n",
        "print('CORR: %.3f' % crr_scr)"
      ],
      "execution_count": 0,
      "outputs": [
        {
          "output_type": "stream",
          "text": [
            "F1:   0.894\n",
            "ACC:  0.894\n",
            "CORR: 0.859\n"
          ],
          "name": "stdout"
        }
      ]
    },
    {
      "cell_type": "markdown",
      "metadata": {
        "id": "gA0GvoWDKulp",
        "colab_type": "text"
      },
      "source": [
        "##Выделяем данные для обучения"
      ]
    },
    {
      "cell_type": "code",
      "metadata": {
        "id": "xKdpzAQKLUsh",
        "colab_type": "code",
        "colab": {}
      },
      "source": [
        "news = train['tokenized_text']"
      ],
      "execution_count": 0,
      "outputs": []
    },
    {
      "cell_type": "code",
      "metadata": {
        "id": "3-13xctTLesU",
        "colab_type": "code",
        "outputId": "c6349e2a-fd21-44a0-ce08-ade220c3be55",
        "colab": {
          "base_uri": "https://localhost:8080/",
          "height": 124
        }
      },
      "source": [
        "news[:5]"
      ],
      "execution_count": 0,
      "outputs": [
        {
          "output_type": "execute_result",
          "data": {
            "text/plain": [
              "0    reuters short sellers wall street dwindling ba...\n",
              "1    reuters private investment firm carlyle group ...\n",
              "2    reuters soaring crude prices plus worries econ...\n",
              "3    reuters authorities halted oil export flows ma...\n",
              "4    afp tearaway world oil prices toppling records...\n",
              "Name: tokenizer_text, dtype: object"
            ]
          },
          "metadata": {
            "tags": []
          },
          "execution_count": 70
        }
      ]
    },
    {
      "cell_type": "markdown",
      "metadata": {
        "id": "EyruZkQeLnPa",
        "colab_type": "text"
      },
      "source": [
        "Выделяем правильные ответы"
      ]
    },
    {
      "cell_type": "code",
      "metadata": {
        "id": "5t_vJBSyIUoG",
        "colab_type": "code",
        "colab": {}
      },
      "source": [
        "y_train = utils.to_categorical(train['class'] - 1, nb_classes)\n",
        "y_test  = utils.to_categorical(test['class'] - 1, nb_classes)"
      ],
      "execution_count": 0,
      "outputs": []
    },
    {
      "cell_type": "code",
      "metadata": {
        "id": "gmEgMdF5IbZR",
        "colab_type": "code",
        "outputId": "81a86034-d130-41c5-dbc6-fc55478c1c7c",
        "colab": {
          "base_uri": "https://localhost:8080/",
          "height": 142
        }
      },
      "source": [
        "y_train"
      ],
      "execution_count": 0,
      "outputs": [
        {
          "output_type": "execute_result",
          "data": {
            "text/plain": [
              "array([[0., 0., 1., 0.],\n",
              "       [0., 0., 1., 0.],\n",
              "       [0., 0., 1., 0.],\n",
              "       ...,\n",
              "       [0., 1., 0., 0.],\n",
              "       [0., 1., 0., 0.],\n",
              "       [0., 1., 0., 0.]], dtype=float32)"
            ]
          },
          "metadata": {
            "tags": []
          },
          "execution_count": 72
        }
      ]
    },
    {
      "cell_type": "markdown",
      "metadata": {
        "id": "7JuLOCqpLsNL",
        "colab_type": "text"
      },
      "source": [
        "## Токенизация текста"
      ]
    },
    {
      "cell_type": "code",
      "metadata": {
        "id": "wwF89PAestv0",
        "colab_type": "code",
        "outputId": "c6ff0dd2-1665-4688-c82b-dcc1988f3d09",
        "colab": {
          "base_uri": "https://localhost:8080/",
          "height": 124
        }
      },
      "source": [
        "news[:5]"
      ],
      "execution_count": 0,
      "outputs": [
        {
          "output_type": "execute_result",
          "data": {
            "text/plain": [
              "0    reuters short sellers wall street dwindling ba...\n",
              "1    reuters private investment firm carlyle group ...\n",
              "2    reuters soaring crude prices plus worries econ...\n",
              "3    reuters authorities halted oil export flows ma...\n",
              "4    afp tearaway world oil prices toppling records...\n",
              "Name: tokenizer_text, dtype: object"
            ]
          },
          "metadata": {
            "tags": []
          },
          "execution_count": 73
        }
      ]
    },
    {
      "cell_type": "markdown",
      "metadata": {
        "id": "DTtBSvAfMusM",
        "colab_type": "text"
      },
      "source": [
        "Создаем токенизатор Keras"
      ]
    },
    {
      "cell_type": "code",
      "metadata": {
        "id": "x-AUMyjMLw5T",
        "colab_type": "code",
        "colab": {}
      },
      "source": [
        "tokenizer = Tokenizer(num_words=num_words)"
      ],
      "execution_count": 0,
      "outputs": []
    },
    {
      "cell_type": "markdown",
      "metadata": {
        "id": "VIxY2pp-M2gw",
        "colab_type": "text"
      },
      "source": [
        "Обучаем токенизатор на новостях"
      ]
    },
    {
      "cell_type": "code",
      "metadata": {
        "id": "RfsqlGJZM7HR",
        "colab_type": "code",
        "colab": {}
      },
      "source": [
        "tokenizer.fit_on_texts(news)"
      ],
      "execution_count": 0,
      "outputs": []
    },
    {
      "cell_type": "markdown",
      "metadata": {
        "id": "y6PqC28PND82",
        "colab_type": "text"
      },
      "source": [
        "Просматриваем словарь токенизатора"
      ]
    },
    {
      "cell_type": "code",
      "metadata": {
        "id": "8mWcH0mUMcMU",
        "colab_type": "code",
        "outputId": "5aa77694-d196-407b-8911-da822b883daf",
        "colab": {
          "base_uri": "https://localhost:8080/",
          "height": 1000
        }
      },
      "source": [
        "tokenizer.word_index"
      ],
      "execution_count": 0,
      "outputs": [
        {
          "output_type": "execute_result",
          "data": {
            "text/plain": [
              "{'39': 1,\n",
              " 'said': 2,\n",
              " 'new': 3,\n",
              " 'reuters': 4,\n",
              " 'two': 5,\n",
              " 'us': 6,\n",
              " 'quot': 7,\n",
              " 'year': 8,\n",
              " 'first': 9,\n",
              " 'ap': 10,\n",
              " 'gt': 11,\n",
              " 'lt': 12,\n",
              " 'monday': 13,\n",
              " 'wednesday': 14,\n",
              " 'tuesday': 15,\n",
              " 'one': 16,\n",
              " 'world': 17,\n",
              " 'company': 18,\n",
              " 'thursday': 19,\n",
              " 'inc': 20,\n",
              " 'friday': 21,\n",
              " 'last': 22,\n",
              " 'yesterday': 23,\n",
              " 'york': 24,\n",
              " 'three': 25,\n",
              " 'president': 26,\n",
              " 'week': 27,\n",
              " 'million': 28,\n",
              " 'corp': 29,\n",
              " 'oil': 30,\n",
              " 'sunday': 31,\n",
              " 'time': 32,\n",
              " 'would': 33,\n",
              " 'united': 34,\n",
              " 'game': 35,\n",
              " 'government': 36,\n",
              " 'today': 37,\n",
              " 'people': 38,\n",
              " 'years': 39,\n",
              " 'could': 40,\n",
              " 'group': 41,\n",
              " 'second': 42,\n",
              " 'iraq': 43,\n",
              " 'com': 44,\n",
              " 'percent': 45,\n",
              " 'saturday': 46,\n",
              " 'software': 47,\n",
              " 'night': 48,\n",
              " 'next': 49,\n",
              " 'third': 50,\n",
              " 'season': 51,\n",
              " 'prices': 52,\n",
              " 'day': 53,\n",
              " 'security': 54,\n",
              " 'fullquote': 55,\n",
              " 'microsoft': 56,\n",
              " 'quarter': 57,\n",
              " 'team': 58,\n",
              " 'stocks': 59,\n",
              " 'internet': 60,\n",
              " 'minister': 61,\n",
              " 'announced': 62,\n",
              " 'state': 63,\n",
              " 'four': 64,\n",
              " 'back': 65,\n",
              " 'international': 66,\n",
              " 'washington': 67,\n",
              " 'high': 68,\n",
              " '2004': 69,\n",
              " 'may': 70,\n",
              " 'billion': 71,\n",
              " 'market': 72,\n",
              " 'news': 73,\n",
              " 'former': 74,\n",
              " '10': 75,\n",
              " 'officials': 76,\n",
              " 'top': 77,\n",
              " 'business': 78,\n",
              " 'says': 79,\n",
              " 'states': 80,\n",
              " 'win': 81,\n",
              " 'month': 82,\n",
              " 'city': 83,\n",
              " 'victory': 84,\n",
              " 'country': 85,\n",
              " 'record': 86,\n",
              " 'end': 87,\n",
              " 'european': 88,\n",
              " 'open': 89,\n",
              " 'technology': 90,\n",
              " 'largest': 91,\n",
              " 'league': 92,\n",
              " 'co': 93,\n",
              " 'service': 94,\n",
              " 'reported': 95,\n",
              " 'american': 96,\n",
              " 'computer': 97,\n",
              " 'sales': 98,\n",
              " 'afp': 99,\n",
              " 'home': 100,\n",
              " 'federal': 101,\n",
              " '000': 102,\n",
              " 'five': 103,\n",
              " 'killed': 104,\n",
              " 'national': 105,\n",
              " 'according': 106,\n",
              " 'prime': 107,\n",
              " 'expected': 108,\n",
              " 'bush': 109,\n",
              " 'made': 110,\n",
              " 'china': 111,\n",
              " 'plans': 112,\n",
              " 'research': 113,\n",
              " 'major': 114,\n",
              " 'ticker': 115,\n",
              " 'network': 116,\n",
              " 'target': 117,\n",
              " 'maker': 118,\n",
              " 'court': 119,\n",
              " 'least': 120,\n",
              " 'online': 121,\n",
              " 'chief': 122,\n",
              " 'http': 123,\n",
              " 'companies': 124,\n",
              " 'london': 125,\n",
              " 'san': 126,\n",
              " 'long': 127,\n",
              " 'www': 128,\n",
              " 'british': 129,\n",
              " 'set': 130,\n",
              " 'lead': 131,\n",
              " 'deal': 132,\n",
              " 'cup': 133,\n",
              " 'final': 134,\n",
              " 'series': 135,\n",
              " 'href': 136,\n",
              " 'bank': 137,\n",
              " 'another': 138,\n",
              " 'search': 139,\n",
              " 'south': 140,\n",
              " 'make': 141,\n",
              " 'based': 142,\n",
              " 'report': 143,\n",
              " 'since': 144,\n",
              " 'investor': 145,\n",
              " 'take': 146,\n",
              " 'police': 147,\n",
              " 'giant': 148,\n",
              " 'old': 149,\n",
              " 'industry': 150,\n",
              " 'space': 151,\n",
              " 'games': 152,\n",
              " 'john': 153,\n",
              " 'coach': 154,\n",
              " 'help': 155,\n",
              " 'leader': 156,\n",
              " 'sports': 157,\n",
              " 'left': 158,\n",
              " 'music': 159,\n",
              " 'shares': 160,\n",
              " 'election': 161,\n",
              " 'web': 162,\n",
              " 'run': 163,\n",
              " 'services': 164,\n",
              " 'way': 165,\n",
              " 'agreed': 166,\n",
              " 'say': 167,\n",
              " 'iraqi': 168,\n",
              " 'red': 169,\n",
              " 'hit': 170,\n",
              " 'baghdad': 171,\n",
              " 'system': 172,\n",
              " 'early': 173,\n",
              " 'military': 174,\n",
              " 'mobile': 175,\n",
              " 'six': 176,\n",
              " 'aspx': 177,\n",
              " 'quickinfo': 178,\n",
              " 'months': 179,\n",
              " 'profit': 180,\n",
              " 'like': 181,\n",
              " 'general': 182,\n",
              " 'north': 183,\n",
              " 'days': 184,\n",
              " 'india': 185,\n",
              " 'union': 186,\n",
              " 'al': 187,\n",
              " 'get': 188,\n",
              " 'rose': 189,\n",
              " 'war': 190,\n",
              " 'including': 191,\n",
              " 'many': 192,\n",
              " 'biggest': 193,\n",
              " 'still': 194,\n",
              " 'ago': 195,\n",
              " 'even': 196,\n",
              " 'japan': 197,\n",
              " 'executive': 198,\n",
              " 'half': 199,\n",
              " 'big': 200,\n",
              " 'talks': 201,\n",
              " 'strong': 202,\n",
              " 'players': 203,\n",
              " 'official': 204,\n",
              " 'palestinian': 205,\n",
              " 'wireless': 206,\n",
              " 'trade': 207,\n",
              " 'plan': 208,\n",
              " 'google': 209,\n",
              " 'data': 210,\n",
              " 'bid': 211,\n",
              " 'round': 212,\n",
              " 'latest': 213,\n",
              " 'phone': 214,\n",
              " 'held': 215,\n",
              " 'higher': 216,\n",
              " 'olympic': 217,\n",
              " 'much': 218,\n",
              " 'start': 219,\n",
              " 'released': 220,\n",
              " 'points': 221,\n",
              " 'stock': 222,\n",
              " 'growth': 223,\n",
              " 'move': 224,\n",
              " 'part': 225,\n",
              " 'boston': 226,\n",
              " 'nuclear': 227,\n",
              " 'athens': 228,\n",
              " 'earnings': 229,\n",
              " 'australia': 230,\n",
              " 'test': 231,\n",
              " '11': 232,\n",
              " 'west': 233,\n",
              " '20': 234,\n",
              " 'nation': 235,\n",
              " 'dollar': 236,\n",
              " 'investors': 237,\n",
              " 'england': 238,\n",
              " 'fourth': 239,\n",
              " 'called': 240,\n",
              " 'global': 241,\n",
              " 'ibm': 242,\n",
              " 'head': 243,\n",
              " 'public': 244,\n",
              " 'play': 245,\n",
              " 'users': 246,\n",
              " 'weeks': 247,\n",
              " 'face': 248,\n",
              " 'israeli': 249,\n",
              " 'presidential': 250,\n",
              " 'nearly': 251,\n",
              " 'street': 252,\n",
              " 'nations': 253,\n",
              " 'seven': 254,\n",
              " 'football': 255,\n",
              " 'economic': 256,\n",
              " 'windows': 257,\n",
              " 'found': 258,\n",
              " 'air': 259,\n",
              " 'man': 260,\n",
              " 'financial': 261,\n",
              " 'francisco': 262,\n",
              " 'despite': 263,\n",
              " 'ahead': 264,\n",
              " 'firm': 265,\n",
              " 'cut': 266,\n",
              " 'free': 267,\n",
              " 'gold': 268,\n",
              " 'systems': 269,\n",
              " 'took': 270,\n",
              " 'championship': 271,\n",
              " 'around': 272,\n",
              " 'amp': 273,\n",
              " 'foreign': 274,\n",
              " 'fell': 275,\n",
              " 'go': 276,\n",
              " '12': 277,\n",
              " 'also': 278,\n",
              " 'russian': 279,\n",
              " 'number': 280,\n",
              " 'near': 281,\n",
              " 'loss': 282,\n",
              " 'leading': 283,\n",
              " 'right': 284,\n",
              " 'used': 285,\n",
              " 'forces': 286,\n",
              " 'past': 287,\n",
              " 'reports': 288,\n",
              " 'use': 289,\n",
              " 'following': 290,\n",
              " 'sox': 291,\n",
              " 'economy': 292,\n",
              " 'america': 293,\n",
              " 'troops': 294,\n",
              " 'buy': 295,\n",
              " '30': 296,\n",
              " 'agency': 297,\n",
              " 'quote': 298,\n",
              " 'work': 299,\n",
              " 'chicago': 300,\n",
              " 'key': 301,\n",
              " 'attack': 302,\n",
              " 'drug': 303,\n",
              " 'apple': 304,\n",
              " 'pay': 305,\n",
              " 'tokyo': 306,\n",
              " 'release': 307,\n",
              " 'led': 308,\n",
              " 'car': 309,\n",
              " 'commission': 310,\n",
              " '36': 311,\n",
              " 'share': 312,\n",
              " '15': 313,\n",
              " 'october': 314,\n",
              " 'per': 315,\n",
              " 'profile': 316,\n",
              " 'gaza': 317,\n",
              " 'version': 318,\n",
              " 'press': 319,\n",
              " 'september': 320,\n",
              " 'late': 321,\n",
              " 'uk': 322,\n",
              " 'beat': 323,\n",
              " 'video': 324,\n",
              " 'media': 325,\n",
              " 'player': 326,\n",
              " 'killing': 327,\n",
              " 'rival': 328,\n",
              " 'price': 329,\n",
              " 'men': 330,\n",
              " '2005': 331,\n",
              " 'europe': 332,\n",
              " 'best': 333,\n",
              " 'region': 334,\n",
              " 'put': 335,\n",
              " 'several': 336,\n",
              " 'capital': 337,\n",
              " 'well': 338,\n",
              " 'wall': 339,\n",
              " 'power': 340,\n",
              " 'products': 341,\n",
              " 'workers': 342,\n",
              " 'source': 343,\n",
              " 'contract': 344,\n",
              " 'offer': 345,\n",
              " 'close': 346,\n",
              " 'russia': 347,\n",
              " 'agreement': 348,\n",
              " 'australian': 349,\n",
              " 'recent': 350,\n",
              " 'french': 351,\n",
              " 'support': 352,\n",
              " 'conference': 353,\n",
              " 'program': 354,\n",
              " 'might': 355,\n",
              " 'making': 356,\n",
              " 'customers': 357,\n",
              " 'demand': 358,\n",
              " 'leaders': 359,\n",
              " 'scientists': 360,\n",
              " 'oracle': 361,\n",
              " 'whether': 362,\n",
              " '17': 363,\n",
              " 'party': 364,\n",
              " 'title': 365,\n",
              " 'un': 366,\n",
              " 'crude': 367,\n",
              " 'digital': 368,\n",
              " 'attacks': 369,\n",
              " 'champion': 370,\n",
              " 'scored': 371,\n",
              " 'jobs': 372,\n",
              " 'department': 373,\n",
              " 'consumer': 374,\n",
              " 'manager': 375,\n",
              " '14': 376,\n",
              " '18': 377,\n",
              " 'lower': 378,\n",
              " 'michael': 379,\n",
              " 'house': 380,\n",
              " 'eight': 381,\n",
              " 'center': 382,\n",
              " 'november': 383,\n",
              " 'life': 384,\n",
              " 'saying': 385,\n",
              " 'florida': 386,\n",
              " 'northern': 387,\n",
              " 'energy': 388,\n",
              " 'japanese': 389,\n",
              " 'running': 390,\n",
              " 'line': 391,\n",
              " 'los': 392,\n",
              " 'southern': 393,\n",
              " 'st': 394,\n",
              " 'told': 395,\n",
              " 'champions': 396,\n",
              " 'low': 397,\n",
              " 'little': 398,\n",
              " 'political': 399,\n",
              " 'management': 400,\n",
              " 'pakistan': 401,\n",
              " 'campaign': 402,\n",
              " 'without': 403,\n",
              " 'meeting': 404,\n",
              " 'field': 405,\n",
              " 'peace': 406,\n",
              " 'angeles': 407,\n",
              " 'due': 408,\n",
              " 'hurricane': 409,\n",
              " 'university': 410,\n",
              " 'decision': 411,\n",
              " 'away': 412,\n",
              " 'school': 413,\n",
              " 'place': 414,\n",
              " 'taking': 415,\n",
              " 'launched': 416,\n",
              " 'central': 417,\n",
              " 'intel': 418,\n",
              " 'good': 419,\n",
              " 'canadian': 420,\n",
              " 'winning': 421,\n",
              " 'race': 422,\n",
              " 'california': 423,\n",
              " 'results': 424,\n",
              " '13': 425,\n",
              " 'star': 426,\n",
              " 'office': 427,\n",
              " 'across': 428,\n",
              " 'using': 429,\n",
              " 'army': 430,\n",
              " 'interest': 431,\n",
              " 'board': 432,\n",
              " '16': 433,\n",
              " '25': 434,\n",
              " 'britain': 435,\n",
              " 'give': 436,\n",
              " 'become': 437,\n",
              " 'net': 438,\n",
              " 'straight': 439,\n",
              " 'weekend': 440,\n",
              " 'morning': 441,\n",
              " 'future': 442,\n",
              " 'chairman': 443,\n",
              " 'secretary': 444,\n",
              " 'peoplesoft': 445,\n",
              " 'defense': 446,\n",
              " 'information': 447,\n",
              " '50': 448,\n",
              " 'site': 449,\n",
              " '100': 450,\n",
              " 'match': 451,\n",
              " 'bomb': 452,\n",
              " 'shot': 453,\n",
              " 'quarterly': 454,\n",
              " 'costs': 455,\n",
              " 'launch': 456,\n",
              " 'nasa': 457,\n",
              " 'houston': 458,\n",
              " 'israel': 459,\n",
              " 'lost': 460,\n",
              " 'sun': 461,\n",
              " 'women': 462,\n",
              " 'linux': 463,\n",
              " 'france': 464,\n",
              " 'charges': 465,\n",
              " 'communications': 466,\n",
              " 'case': 467,\n",
              " 'iran': 468,\n",
              " 'club': 469,\n",
              " 'elections': 470,\n",
              " 'history': 471,\n",
              " 'keep': 472,\n",
              " 'operating': 473,\n",
              " 'oct': 474,\n",
              " 'health': 475,\n",
              " 'showed': 476,\n",
              " 'return': 477,\n",
              " 'better': 478,\n",
              " 'times': 479,\n",
              " 'yankees': 480,\n",
              " 'warned': 481,\n",
              " 'among': 482,\n",
              " 'posted': 483,\n",
              " 'signed': 484,\n",
              " 'increase': 485,\n",
              " 'death': 486,\n",
              " 'cost': 487,\n",
              " 'show': 488,\n",
              " 'senior': 489,\n",
              " 'pc': 490,\n",
              " 'television': 491,\n",
              " 'job': 492,\n",
              " 'mark': 493,\n",
              " 'bill': 494,\n",
              " 'trading': 495,\n",
              " 'korea': 496,\n",
              " 'money': 497,\n",
              " 'militants': 498,\n",
              " 'stores': 499,\n",
              " 'kerry': 500,\n",
              " '24': 501,\n",
              " 'exchange': 502,\n",
              " 'earlier': 503,\n",
              " 'almost': 504,\n",
              " 'grand': 505,\n",
              " 'ever': 506,\n",
              " 'force': 507,\n",
              " 'come': 508,\n",
              " 'small': 509,\n",
              " 'baseball': 510,\n",
              " 'david': 511,\n",
              " 'east': 512,\n",
              " 'rise': 513,\n",
              " 'stadium': 514,\n",
              " 'font': 515,\n",
              " 'mail': 516,\n",
              " 'fans': 517,\n",
              " 'chip': 518,\n",
              " 'less': 519,\n",
              " 'accused': 520,\n",
              " 'reserve': 521,\n",
              " '19': 522,\n",
              " 'began': 523,\n",
              " 'toronto': 524,\n",
              " 'nine': 525,\n",
              " 'ltd': 526,\n",
              " 'action': 527,\n",
              " 'going': 528,\n",
              " 'association': 529,\n",
              " 'texas': 530,\n",
              " 'likely': 531,\n",
              " 'nov': 532,\n",
              " 'came': 533,\n",
              " 'thousands': 534,\n",
              " 'real': 535,\n",
              " 'behind': 536,\n",
              " 'ended': 537,\n",
              " 'helped': 538,\n",
              " 'post': 539,\n",
              " 'barrel': 540,\n",
              " 'anti': 541,\n",
              " 'opening': 542,\n",
              " 'administration': 543,\n",
              " 'offering': 544,\n",
              " 'full': 545,\n",
              " 'got': 546,\n",
              " 'battle': 547,\n",
              " 'cash': 548,\n",
              " 'possible': 549,\n",
              " 'judge': 550,\n",
              " '21': 551,\n",
              " 'control': 552,\n",
              " 'amid': 553,\n",
              " 'died': 554,\n",
              " 'sell': 555,\n",
              " 'rate': 556,\n",
              " 'trial': 557,\n",
              " 'august': 558,\n",
              " 'division': 559,\n",
              " 'growing': 560,\n",
              " 'arafat': 561,\n",
              " 'already': 562,\n",
              " 'point': 563,\n",
              " 'darfur': 564,\n",
              " 'germany': 565,\n",
              " 'access': 566,\n",
              " 'canada': 567,\n",
              " 'yet': 568,\n",
              " 'paris': 569,\n",
              " 'members': 570,\n",
              " 'food': 571,\n",
              " 'medal': 572,\n",
              " 'term': 573,\n",
              " 'tax': 574,\n",
              " 'performance': 575,\n",
              " 'afghanistan': 576,\n",
              " 'hopes': 577,\n",
              " 'hours': 578,\n",
              " 'bankruptcy': 579,\n",
              " 'countries': 580,\n",
              " 'far': 581,\n",
              " 'white': 582,\n",
              " 'fall': 583,\n",
              " 'sept': 584,\n",
              " 'revenue': 585,\n",
              " 'career': 586,\n",
              " '151': 587,\n",
              " 'injured': 588,\n",
              " 'networks': 589,\n",
              " 'rates': 590,\n",
              " 'trying': 591,\n",
              " 'western': 592,\n",
              " 'store': 593,\n",
              " 'williams': 594,\n",
              " 'production': 595,\n",
              " 'airlines': 596,\n",
              " 'product': 597,\n",
              " 'gave': 598,\n",
              " 'study': 599,\n",
              " 'efforts': 600,\n",
              " 'see': 601,\n",
              " 'chinese': 602,\n",
              " 'within': 603,\n",
              " 'authorities': 604,\n",
              " 'soon': 605,\n",
              " 'violence': 606,\n",
              " 'yards': 607,\n",
              " 'computers': 608,\n",
              " 'german': 609,\n",
              " 'george': 610,\n",
              " 'corporate': 611,\n",
              " 'hard': 612,\n",
              " 'look': 613,\n",
              " 'analysts': 614,\n",
              " 'soldiers': 615,\n",
              " 'sudan': 616,\n",
              " 'radio': 617,\n",
              " 'local': 618,\n",
              " 'human': 619,\n",
              " 'speed': 620,\n",
              " 'opposition': 621,\n",
              " 'server': 622,\n",
              " 'step': 623,\n",
              " 'hostage': 624,\n",
              " 'takeover': 625,\n",
              " 'change': 626,\n",
              " 'giants': 627,\n",
              " 'personal': 628,\n",
              " 'main': 629,\n",
              " 'starting': 630,\n",
              " 'paul': 631,\n",
              " 'popular': 632,\n",
              " 'engine': 633,\n",
              " 'competition': 634,\n",
              " 'outside': 635,\n",
              " 'fund': 636,\n",
              " 'quarterback': 637,\n",
              " 'aimed': 638,\n",
              " 'markets': 639,\n",
              " 'reached': 640,\n",
              " 'retailer': 641,\n",
              " 'fire': 642,\n",
              " 'investment': 643,\n",
              " 'african': 644,\n",
              " 'law': 645,\n",
              " 'jones': 646,\n",
              " 'size': 647,\n",
              " 'short': 648,\n",
              " 'concerns': 649,\n",
              " 'strike': 650,\n",
              " 'phones': 651,\n",
              " 'known': 652,\n",
              " 'continued': 653,\n",
              " 'failed': 654,\n",
              " 'devices': 655,\n",
              " 'vote': 656,\n",
              " 'tour': 657,\n",
              " 'enough': 658,\n",
              " 'airline': 659,\n",
              " 'gas': 660,\n",
              " 'yasser': 661,\n",
              " 'tech': 662,\n",
              " 'others': 663,\n",
              " 'taken': 664,\n",
              " 'begin': 665,\n",
              " 'development': 666,\n",
              " 'profits': 667,\n",
              " 'sony': 668,\n",
              " 'looking': 669,\n",
              " 'dead': 670,\n",
              " 'manchester': 671,\n",
              " 'filed': 672,\n",
              " 'weapons': 673,\n",
              " 'seattle': 674,\n",
              " 'bay': 675,\n",
              " 'miami': 676,\n",
              " 'council': 677,\n",
              " 'fight': 678,\n",
              " 'insurance': 679,\n",
              " 'selling': 680,\n",
              " 'stop': 681,\n",
              " 'reach': 682,\n",
              " 'americans': 683,\n",
              " 'unit': 684,\n",
              " 'teams': 685,\n",
              " 'designed': 686,\n",
              " 'beijing': 687,\n",
              " 'raised': 688,\n",
              " 'desktop': 689,\n",
              " 'large': 690,\n",
              " 'cell': 691,\n",
              " 'africa': 692,\n",
              " 'side': 693,\n",
              " 'electronics': 694,\n",
              " 'executives': 695,\n",
              " 'meet': 696,\n",
              " 'great': 697,\n",
              " 'olympics': 698,\n",
              " 'indian': 699,\n",
              " 'find': 700,\n",
              " 'consumers': 701,\n",
              " '500': 702,\n",
              " 'coast': 703,\n",
              " 'went': 704,\n",
              " 'legal': 705,\n",
              " 'spain': 706,\n",
              " 'must': 707,\n",
              " 'effort': 708,\n",
              " 'hold': 709,\n",
              " 'moscow': 710,\n",
              " 'rebel': 711,\n",
              " 'operations': 712,\n",
              " 'green': 713,\n",
              " 'fuel': 714,\n",
              " 'finally': 715,\n",
              " 'cp': 716,\n",
              " 'powerful': 717,\n",
              " 'fighting': 718,\n",
              " 'tony': 719,\n",
              " 'coming': 720,\n",
              " 'researchers': 721,\n",
              " 'children': 722,\n",
              " 'area': 723,\n",
              " 'working': 724,\n",
              " 'level': 725,\n",
              " 'spending': 726,\n",
              " 'file': 727,\n",
              " 'family': 728,\n",
              " 'call': 729,\n",
              " 'euro': 730,\n",
              " 'madrid': 731,\n",
              " 'yahoo': 732,\n",
              " 'rights': 733,\n",
              " 'atlanta': 734,\n",
              " 'need': 735,\n",
              " 'toward': 736,\n",
              " 'fired': 737,\n",
              " 'claims': 738,\n",
              " 'annual': 739,\n",
              " 'station': 740,\n",
              " 'forecast': 741,\n",
              " 'getting': 742,\n",
              " 'rally': 743,\n",
              " 'securities': 744,\n",
              " 'continue': 745,\n",
              " 'businesses': 746,\n",
              " '23': 747,\n",
              " 'allow': 748,\n",
              " 'private': 749,\n",
              " 'never': 750,\n",
              " 'blue': 751,\n",
              " 'arrested': 752,\n",
              " 'goal': 753,\n",
              " 'tv': 754,\n",
              " 'list': 755,\n",
              " 'bowl': 756,\n",
              " 'heart': 757,\n",
              " 'every': 758,\n",
              " 'rebels': 759,\n",
              " 'cbs': 760,\n",
              " 'labor': 761,\n",
              " 'provide': 762,\n",
              " 'nfl': 763,\n",
              " 'pressure': 764,\n",
              " 'democratic': 765,\n",
              " '27': 766,\n",
              " 'college': 767,\n",
              " 'visit': 768,\n",
              " 'planned': 769,\n",
              " 'calif': 770,\n",
              " 'basketball': 771,\n",
              " 'italian': 772,\n",
              " 'holiday': 773,\n",
              " 'investigation': 774,\n",
              " 'drop': 775,\n",
              " 'drive': 776,\n",
              " 'name': 777,\n",
              " 'sent': 778,\n",
              " 'regulators': 779,\n",
              " 'available': 780,\n",
              " 'survey': 781,\n",
              " 'boost': 782,\n",
              " 'hundreds': 783,\n",
              " '28': 784,\n",
              " 'current': 785,\n",
              " 'dollars': 786,\n",
              " 'charged': 787,\n",
              " 'attempt': 788,\n",
              " 'officer': 789,\n",
              " 'named': 790,\n",
              " 'eu': 791,\n",
              " 'expectations': 792,\n",
              " 'policy': 793,\n",
              " 'muslim': 794,\n",
              " 'rising': 795,\n",
              " '22': 796,\n",
              " 'problems': 797,\n",
              " 'detroit': 798,\n",
              " 'ipod': 799,\n",
              " 'asked': 800,\n",
              " 'suspected': 801,\n",
              " 'philadelphia': 802,\n",
              " 'employees': 803,\n",
              " 'approved': 804,\n",
              " 'nasdaq': 805,\n",
              " 'sold': 806,\n",
              " 'park': 807,\n",
              " 'december': 808,\n",
              " 'ceo': 809,\n",
              " 'aid': 810,\n",
              " 'rivals': 811,\n",
              " 'gains': 812,\n",
              " 'decided': 813,\n",
              " 'supply': 814,\n",
              " 'retail': 815,\n",
              " 'flight': 816,\n",
              " 'unveiled': 817,\n",
              " 'islamic': 818,\n",
              " 'worth': 819,\n",
              " 'arsenal': 820,\n",
              " 'confirmed': 821,\n",
              " 'tournament': 822,\n",
              " 'turned': 823,\n",
              " 'strip': 824,\n",
              " 'seen': 825,\n",
              " 'sale': 826,\n",
              " 'equipment': 827,\n",
              " 'louis': 828,\n",
              " 'injury': 829,\n",
              " 'order': 830,\n",
              " 'claimed': 831,\n",
              " 'technologies': 832,\n",
              " 'holding': 833,\n",
              " 'sign': 834,\n",
              " 'town': 835,\n",
              " 'ruling': 836,\n",
              " 'later': 837,\n",
              " 'winter': 838,\n",
              " 'island': 839,\n",
              " 'increased': 840,\n",
              " 'try': 841,\n",
              " 'terrorism': 842,\n",
              " 'giving': 843,\n",
              " 'color': 844,\n",
              " 'staff': 845,\n",
              " 'moved': 846,\n",
              " 'stake': 847,\n",
              " 'guard': 848,\n",
              " 'spokesman': 849,\n",
              " 'want': 850,\n",
              " 'fresh': 851,\n",
              " 'though': 852,\n",
              " 'generation': 853,\n",
              " '40': 854,\n",
              " 'opened': 855,\n",
              " 'mike': 856,\n",
              " 'fifth': 857,\n",
              " 'cent': 858,\n",
              " 'average': 859,\n",
              " 'threat': 860,\n",
              " 'received': 861,\n",
              " 'inning': 862,\n",
              " 'chance': 863,\n",
              " 'hospital': 864,\n",
              " 'double': 865,\n",
              " 'captain': 866,\n",
              " 'touchdown': 867,\n",
              " 'added': 868,\n",
              " 'ranked': 869,\n",
              " 'steve': 870,\n",
              " 'asia': 871,\n",
              " '2006': 872,\n",
              " 'crisis': 873,\n",
              " 'process': 874,\n",
              " 'applications': 875,\n",
              " '2003': 876,\n",
              " 'young': 877,\n",
              " 'black': 878,\n",
              " 'suicide': 879,\n",
              " 'runs': 880,\n",
              " 'turn': 881,\n",
              " 'earth': 882,\n",
              " 'building': 883,\n",
              " 'lines': 884,\n",
              " '200': 885,\n",
              " 'ending': 886,\n",
              " 'enterprise': 887,\n",
              " 'finance': 888,\n",
              " 'airways': 889,\n",
              " 'medical': 890,\n",
              " 'playing': 891,\n",
              " 'given': 892,\n",
              " 'aug': 893,\n",
              " 'singapore': 894,\n",
              " 'storage': 895,\n",
              " 'groups': 896,\n",
              " 'wants': 897,\n",
              " 'build': 898,\n",
              " 'advanced': 899,\n",
              " 'ready': 900,\n",
              " 'experts': 901,\n",
              " 'bring': 902,\n",
              " 'outlook': 903,\n",
              " 'charge': 904,\n",
              " 'missing': 905,\n",
              " 'body': 906,\n",
              " 'alleged': 907,\n",
              " 'asian': 908,\n",
              " 'sites': 909,\n",
              " 'ground': 910,\n",
              " 'defeat': 911,\n",
              " 'let': 912,\n",
              " 'card': 913,\n",
              " 'related': 914,\n",
              " 'summer': 915,\n",
              " 'challenge': 916,\n",
              " 'water': 917,\n",
              " 'risk': 918,\n",
              " 'sources': 919,\n",
              " 'middle': 920,\n",
              " 'able': 921,\n",
              " 'fears': 922,\n",
              " 'started': 923,\n",
              " 'militant': 924,\n",
              " 'millions': 925,\n",
              " 'ruled': 926,\n",
              " 'ivan': 927,\n",
              " 'focus': 928,\n",
              " 'blair': 929,\n",
              " 'hope': 930,\n",
              " 'event': 931,\n",
              " 'create': 932,\n",
              " 'forward': 933,\n",
              " 'calls': 934,\n",
              " 'prison': 935,\n",
              " 'director': 936,\n",
              " '26': 937,\n",
              " 'minnesota': 938,\n",
              " 'minutes': 939,\n",
              " 'organization': 940,\n",
              " 'whose': 941,\n",
              " 'accounting': 942,\n",
              " 'position': 943,\n",
              " 'lawsuit': 944,\n",
              " 'storm': 945,\n",
              " 'safety': 946,\n",
              " 'played': 947,\n",
              " 'cricket': 948,\n",
              " 'know': 949,\n",
              " 'single': 950,\n",
              " 'proposed': 951,\n",
              " 'losses': 952,\n",
              " 'spam': 953,\n",
              " 'warning': 954,\n",
              " 'soccer': 955,\n",
              " 'january': 956,\n",
              " 'losing': 957,\n",
              " 'special': 958,\n",
              " 'fraud': 959,\n",
              " 'along': 960,\n",
              " 'drugs': 961,\n",
              " 'wounded': 962,\n",
              " 'range': 963,\n",
              " 'sharon': 964,\n",
              " 'satellite': 965,\n",
              " 'pro': 966,\n",
              " 'closer': 967,\n",
              " 'urged': 968,\n",
              " 'ireland': 969,\n",
              " 'cuts': 970,\n",
              " 'issue': 971,\n",
              " 'threatened': 972,\n",
              " 'committee': 973,\n",
              " 'entertainment': 974,\n",
              " 'project': 975,\n",
              " 'mission': 976,\n",
              " 'hand': 977,\n",
              " 'interim': 978,\n",
              " 'greece': 979,\n",
              " 'mw': 980,\n",
              " 'leave': 981,\n",
              " 'statement': 982,\n",
              " 'returned': 983,\n",
              " 'became': 984,\n",
              " 'clear': 985,\n",
              " 'chips': 986,\n",
              " 'johnson': 987,\n",
              " 'issues': 988,\n",
              " 'debt': 989,\n",
              " 'leaving': 990,\n",
              " 'citing': 991,\n",
              " 'evidence': 992,\n",
              " 'browser': 993,\n",
              " 'congress': 994,\n",
              " 'dow': 995,\n",
              " 'recently': 996,\n",
              " 'initial': 997,\n",
              " 'forced': 998,\n",
              " 'insurgents': 999,\n",
              " 'dutch': 1000,\n",
              " ...}"
            ]
          },
          "metadata": {
            "tags": []
          },
          "execution_count": 76
        }
      ]
    },
    {
      "cell_type": "markdown",
      "metadata": {
        "id": "s_nyPsVLNW-f",
        "colab_type": "text"
      },
      "source": [
        "Преобразуем новости в числовое представление"
      ]
    },
    {
      "cell_type": "code",
      "metadata": {
        "id": "bMZ6e-zEJHr1",
        "colab_type": "code",
        "colab": {}
      },
      "source": [
        "train_sequences = tokenizer.texts_to_sequences(train['tokenized_text'])\n",
        "test_sequences  = tokenizer.texts_to_sequences(test['tokenized_text'])"
      ],
      "execution_count": 0,
      "outputs": []
    },
    {
      "cell_type": "markdown",
      "metadata": {
        "id": "aZ_NJ2SlNwMI",
        "colab_type": "text"
      },
      "source": [
        "Просматриваем новости в числовом представлении"
      ]
    },
    {
      "cell_type": "code",
      "metadata": {
        "id": "xIUJvjguN0S0",
        "colab_type": "code",
        "outputId": "d96a98db-b371-4859-de03-696df407a525",
        "colab": {
          "base_uri": "https://localhost:8080/",
          "height": 52
        }
      },
      "source": [
        "index = 1\n",
        "print(news[index])\n",
        "print(sequences[index])"
      ],
      "execution_count": 0,
      "outputs": [
        {
          "output_type": "stream",
          "text": [
            "reuters private investment firm carlyle group reputation making well timed occasionally controversial plays defense industry quietly placed bets another part market\n",
            "[4, 749, 643, 265, 41, 3751, 356, 338, 1176, 2644, 446, 150, 3362, 1860, 8002, 138, 225, 72]\n"
          ],
          "name": "stdout"
        }
      ]
    },
    {
      "cell_type": "code",
      "metadata": {
        "id": "sQn0O5kBtmyJ",
        "colab_type": "code",
        "outputId": "a0bf1115-d012-47b8-edb4-8000b06112b5",
        "colab": {
          "base_uri": "https://localhost:8080/",
          "height": 34
        }
      },
      "source": [
        "tokenizer.word_index['investment']"
      ],
      "execution_count": 0,
      "outputs": [
        {
          "output_type": "execute_result",
          "data": {
            "text/plain": [
              "643"
            ]
          },
          "metadata": {
            "tags": []
          },
          "execution_count": 135
        }
      ]
    },
    {
      "cell_type": "markdown",
      "metadata": {
        "id": "neSZfrw3OYPx",
        "colab_type": "text"
      },
      "source": [
        "Ограничиваем длину отзывов"
      ]
    },
    {
      "cell_type": "code",
      "metadata": {
        "id": "ZGLpcETkN3ex",
        "colab_type": "code",
        "colab": {}
      },
      "source": [
        "X_train = pad_sequences(train_sequences, maxlen=max_news_len)\n",
        "X_test  = pad_sequences(test_sequences,  maxlen=max_news_len)"
      ],
      "execution_count": 0,
      "outputs": []
    },
    {
      "cell_type": "code",
      "metadata": {
        "id": "mPW1VACmOrrm",
        "colab_type": "code",
        "outputId": "ebc86842-9642-4165-d367-554219e4e27b",
        "colab": {
          "base_uri": "https://localhost:8080/",
          "height": 286
        }
      },
      "source": [
        "X_train[:5]"
      ],
      "execution_count": 0,
      "outputs": [
        {
          "output_type": "execute_result",
          "data": {
            "text/plain": [
              "array([[   0,    0,    0,    0,    0,    0,    0,    0,    0,    0,    0,\n",
              "           0,    0,    0,    0,    0,    0,    0,    0,    0,    0,    4,\n",
              "         648, 7600,  339,  252, 2670, 5707, 3481,  713],\n",
              "       [   0,    0,    0,    0,    0,    0,    0,    0,    0,    0,    0,\n",
              "           0,    4,  749,  643,  265,   41, 3751,  356,  338, 1176, 2644,\n",
              "         446,  150, 3362, 1860, 8002,  138,  225,   72],\n",
              "       [   0,    0,    0,    0,    0,    0,    0,    0,    0,    0,    0,\n",
              "           0,    0,    4, 2051,  367,   52, 1439, 1353,  292,  903,  229,\n",
              "         108, 6160,  222,   72,   49,   27, 5902,  915],\n",
              "       [   0,    0,    0,    0,    0,    0,    0,    0,    0,    4,  604,\n",
              "        4949,   30, 3386, 7736,  629, 3042,  393,   43, 1271,  476,  711,\n",
              "        2437,   40,  650, 2408,   30,  204,    2,   46],\n",
              "       [   0,    0,    0,    0,    0,    0,    0,    0,    0,    0,    0,\n",
              "           0,    0,    0,   99,   17,   30,   52, 8585, 1640, 8003, 3287,\n",
              "           3,  256, 2878,   25,  179,    6,  250,  470]], dtype=int32)"
            ]
          },
          "metadata": {
            "tags": []
          },
          "execution_count": 81
        }
      ]
    },
    {
      "cell_type": "markdown",
      "metadata": {
        "id": "6yi3JpgM1kFG",
        "colab_type": "text"
      },
      "source": [
        "## *Полносвязная нейронная сеть* **NN predict**"
      ]
    },
    {
      "cell_type": "code",
      "metadata": {
        "id": "yRDvSbwl1qSl",
        "colab_type": "code",
        "colab": {}
      },
      "source": [
        "model_nn = Sequential()\n",
        "model_nn.add(Embedding(num_words, 32, input_length=max_news_len))\n",
        "model_nn.add(Flatten())\n",
        "model_nn.add(Dense(4, activation='softmax'))"
      ],
      "execution_count": 0,
      "outputs": []
    },
    {
      "cell_type": "code",
      "metadata": {
        "id": "sJxkDqIB1w2O",
        "colab_type": "code",
        "colab": {}
      },
      "source": [
        "model_nn.compile(optimizer='adam', \n",
        "                 loss='categorical_crossentropy', \n",
        "                 metrics=['accuracy'])"
      ],
      "execution_count": 0,
      "outputs": []
    },
    {
      "cell_type": "code",
      "metadata": {
        "id": "HYaBv-m11xv6",
        "colab_type": "code",
        "outputId": "d6b3b15a-2325-4d13-a342-d77980d2d36f",
        "colab": {
          "base_uri": "https://localhost:8080/",
          "height": 268
        }
      },
      "source": [
        "model_nn.summary()"
      ],
      "execution_count": 0,
      "outputs": [
        {
          "output_type": "stream",
          "text": [
            "Model: \"sequential_26\"\n",
            "_________________________________________________________________\n",
            "Layer (type)                 Output Shape              Param #   \n",
            "=================================================================\n",
            "embedding_26 (Embedding)     (None, 30, 32)            320000    \n",
            "_________________________________________________________________\n",
            "flatten_2 (Flatten)          (None, 960)               0         \n",
            "_________________________________________________________________\n",
            "dense_47 (Dense)             (None, 4)                 3844      \n",
            "=================================================================\n",
            "Total params: 323,844\n",
            "Trainable params: 323,844\n",
            "Non-trainable params: 0\n",
            "_________________________________________________________________\n"
          ],
          "name": "stdout"
        }
      ]
    },
    {
      "cell_type": "code",
      "metadata": {
        "id": "1hJ9tUOh1y0W",
        "colab_type": "code",
        "colab": {}
      },
      "source": [
        "model_nn_save_path = 'best_model_nn.h5'\n",
        "checkpoint_callback_nn = ModelCheckpoint(model_nn_save_path, \n",
        "                                         monitor='val_accuracy',\n",
        "                                         save_best_only=True,\n",
        "                                         verbose=1)"
      ],
      "execution_count": 0,
      "outputs": []
    },
    {
      "cell_type": "code",
      "metadata": {
        "id": "9gf5s5Wm14jv",
        "colab_type": "code",
        "outputId": "1d2538d2-5ebb-4550-a468-62ddfda6d455",
        "colab": {
          "base_uri": "https://localhost:8080/",
          "height": 736
        }
      },
      "source": [
        "history_nn = model_nn.fit(X_train, \n",
        "                           y_train, \n",
        "                           epochs=10,\n",
        "                           batch_size=128,\n",
        "                           validation_split=0.2,\n",
        "                           callbacks=[checkpoint_callback_nn])"
      ],
      "execution_count": 0,
      "outputs": [
        {
          "output_type": "stream",
          "text": [
            "Epoch 1/10\n",
            "748/750 [============================>.] - ETA: 0s - loss: 0.5272 - accuracy: 0.8280\n",
            "Epoch 00001: val_accuracy improved from -inf to 0.89408, saving model to best_model_nn.h5\n",
            "750/750 [==============================] - 4s 6ms/step - loss: 0.5267 - accuracy: 0.8281 - val_loss: 0.3121 - val_accuracy: 0.8941\n",
            "Epoch 2/10\n",
            "745/750 [============================>.] - ETA: 0s - loss: 0.2492 - accuracy: 0.9180\n",
            "Epoch 00002: val_accuracy did not improve from 0.89408\n",
            "750/750 [==============================] - 4s 6ms/step - loss: 0.2491 - accuracy: 0.9181 - val_loss: 0.3069 - val_accuracy: 0.8928\n",
            "Epoch 3/10\n",
            "748/750 [============================>.] - ETA: 0s - loss: 0.1986 - accuracy: 0.9341\n",
            "Epoch 00003: val_accuracy did not improve from 0.89408\n",
            "750/750 [==============================] - 4s 6ms/step - loss: 0.1986 - accuracy: 0.9341 - val_loss: 0.3207 - val_accuracy: 0.8868\n",
            "Epoch 4/10\n",
            "748/750 [============================>.] - ETA: 0s - loss: 0.1547 - accuracy: 0.9500\n",
            "Epoch 00004: val_accuracy did not improve from 0.89408\n",
            "750/750 [==============================] - 4s 6ms/step - loss: 0.1547 - accuracy: 0.9500 - val_loss: 0.3399 - val_accuracy: 0.8830\n",
            "Epoch 5/10\n",
            "741/750 [============================>.] - ETA: 0s - loss: 0.1115 - accuracy: 0.9672\n",
            "Epoch 00005: val_accuracy did not improve from 0.89408\n",
            "750/750 [==============================] - 4s 5ms/step - loss: 0.1115 - accuracy: 0.9672 - val_loss: 0.3658 - val_accuracy: 0.8774\n",
            "Epoch 6/10\n",
            "746/750 [============================>.] - ETA: 0s - loss: 0.0760 - accuracy: 0.9799\n",
            "Epoch 00006: val_accuracy did not improve from 0.89408\n",
            "750/750 [==============================] - 4s 6ms/step - loss: 0.0759 - accuracy: 0.9800 - val_loss: 0.3996 - val_accuracy: 0.8732\n",
            "Epoch 7/10\n",
            "745/750 [============================>.] - ETA: 0s - loss: 0.0510 - accuracy: 0.9883\n",
            "Epoch 00007: val_accuracy did not improve from 0.89408\n",
            "750/750 [==============================] - 4s 6ms/step - loss: 0.0510 - accuracy: 0.9883 - val_loss: 0.4271 - val_accuracy: 0.8731\n",
            "Epoch 8/10\n",
            "748/750 [============================>.] - ETA: 0s - loss: 0.0363 - accuracy: 0.9917\n",
            "Epoch 00008: val_accuracy did not improve from 0.89408\n",
            "750/750 [==============================] - 4s 5ms/step - loss: 0.0362 - accuracy: 0.9917 - val_loss: 0.4508 - val_accuracy: 0.8711\n",
            "Epoch 9/10\n",
            "746/750 [============================>.] - ETA: 0s - loss: 0.0280 - accuracy: 0.9936\n",
            "Epoch 00009: val_accuracy did not improve from 0.89408\n",
            "750/750 [==============================] - 4s 6ms/step - loss: 0.0280 - accuracy: 0.9936 - val_loss: 0.4827 - val_accuracy: 0.8705\n",
            "Epoch 10/10\n",
            "746/750 [============================>.] - ETA: 0s - loss: 0.0238 - accuracy: 0.9941\n",
            "Epoch 00010: val_accuracy did not improve from 0.89408\n",
            "750/750 [==============================] - 4s 5ms/step - loss: 0.0238 - accuracy: 0.9941 - val_loss: 0.5166 - val_accuracy: 0.8693\n"
          ],
          "name": "stdout"
        }
      ]
    },
    {
      "cell_type": "code",
      "metadata": {
        "id": "7bp5cvyD2Gde",
        "colab_type": "code",
        "outputId": "b311caf0-acf5-4e60-c017-ab63a28a161a",
        "colab": {
          "base_uri": "https://localhost:8080/",
          "height": 280
        }
      },
      "source": [
        "plt.plot(history_nn.history['accuracy'], \n",
        "         label='Доля верных ответов на обучающем наборе')\n",
        "plt.plot(history_nn.history['val_accuracy'], \n",
        "         label='Доля верных ответов на проверочном наборе')\n",
        "plt.xlabel('Эпоха обучения')\n",
        "plt.ylabel('Доля верных ответов')\n",
        "plt.legend()\n",
        "plt.show()"
      ],
      "execution_count": 0,
      "outputs": [
        {
          "output_type": "display_data",
          "data": {
            "image/png": "[encoded data removed]",
            "text/plain": [
              "<Figure size 432x288 with 1 Axes>"
            ]
          },
          "metadata": {
            "tags": [],
            "needs_background": "light"
          }
        }
      ]
    },
    {
      "cell_type": "code",
      "metadata": {
        "id": "z8WYhBzP2L_-",
        "colab_type": "code",
        "colab": {}
      },
      "source": [
        "model_nn.load_weights(model_nn_save_path)"
      ],
      "execution_count": 0,
      "outputs": []
    },
    {
      "cell_type": "code",
      "metadata": {
        "id": "ylP0ug_i2QoF",
        "colab_type": "code",
        "outputId": "0c3bc03a-2552-4351-a3ca-f5946fd93b2a",
        "colab": {
          "base_uri": "https://localhost:8080/",
          "height": 70
        }
      },
      "source": [
        "y_pred = model_nn.predict(X_test).argmax(1)+1\n",
        "\n",
        "f1_scr  = f1_score(y_pred, y_test_, average='macro')\n",
        "acc_scr = accuracy_score(y_pred, y_test_)\n",
        "crr_scr = matthews_corrcoef(y_pred, y_test_)\n",
        "\n",
        "print('F1:   %.3f' % f1_scr)\n",
        "print('ACC:  %.3f' % acc_scr)\n",
        "print('CORR: %.3f' % crr_scr)"
      ],
      "execution_count": 0,
      "outputs": [
        {
          "output_type": "stream",
          "text": [
            "F1:   0.896\n",
            "ACC:  0.896\n",
            "CORR: 0.862\n"
          ],
          "name": "stdout"
        }
      ]
    },
    {
      "cell_type": "markdown",
      "metadata": {
        "id": "ypBYfEwvO0c4",
        "colab_type": "text"
      },
      "source": [
        "## *Сверточная нейронная сеть* **CNN predict**"
      ]
    },
    {
      "cell_type": "code",
      "metadata": {
        "id": "8ETORhRkOtIn",
        "colab_type": "code",
        "colab": {}
      },
      "source": [
        "model_cnn = Sequential()\n",
        "model_cnn.add(Embedding(num_words, 32, input_length=max_news_len))\n",
        "model_cnn.add(Conv1D(250, 5, padding='valid', activation='relu'))\n",
        "model_cnn.add(GlobalMaxPooling1D())\n",
        "model_cnn.add(Dense(4, activation='softmax'))"
      ],
      "execution_count": 0,
      "outputs": []
    },
    {
      "cell_type": "code",
      "metadata": {
        "id": "rzds0iUgPLwS",
        "colab_type": "code",
        "colab": {}
      },
      "source": [
        "model_cnn.compile(optimizer='adam', \n",
        "                  loss='categorical_crossentropy', \n",
        "                  metrics=['accuracy'])"
      ],
      "execution_count": 0,
      "outputs": []
    },
    {
      "cell_type": "code",
      "metadata": {
        "id": "wpVCjslL4En2",
        "colab_type": "code",
        "outputId": "e3e01471-7e99-4f8b-eaef-66488f604d3d",
        "colab": {
          "base_uri": "https://localhost:8080/",
          "height": 304
        }
      },
      "source": [
        "model_cnn.summary()"
      ],
      "execution_count": 0,
      "outputs": [
        {
          "output_type": "stream",
          "text": [
            "Model: \"sequential_27\"\n",
            "_________________________________________________________________\n",
            "Layer (type)                 Output Shape              Param #   \n",
            "=================================================================\n",
            "embedding_27 (Embedding)     (None, 30, 32)            320000    \n",
            "_________________________________________________________________\n",
            "conv1d_14 (Conv1D)           (None, 26, 250)           40250     \n",
            "_________________________________________________________________\n",
            "global_max_pooling1d_11 (Glo (None, 250)               0         \n",
            "_________________________________________________________________\n",
            "dense_48 (Dense)             (None, 4)                 1004      \n",
            "=================================================================\n",
            "Total params: 361,254\n",
            "Trainable params: 361,254\n",
            "Non-trainable params: 0\n",
            "_________________________________________________________________\n"
          ],
          "name": "stdout"
        }
      ]
    },
    {
      "cell_type": "markdown",
      "metadata": {
        "id": "GYw-jNpW9-40",
        "colab_type": "text"
      },
      "source": [
        "Создаем callback для сохранения нейронной сети на каждой эпохе, если качество работы на проверочном наборе данных улучшилось. Сеть сохраняется в файл `best_model.h5`"
      ]
    },
    {
      "cell_type": "code",
      "metadata": {
        "id": "inD4DaNdWgpL",
        "colab_type": "code",
        "colab": {}
      },
      "source": [
        "model_cnn_save_path = 'best_model_cnn.h5'\n",
        "checkpoint_callback_cnn = ModelCheckpoint(model_cnn_save_path, \n",
        "                                          monitor='val_accuracy',\n",
        "                                          save_best_only=True,\n",
        "                                          verbose=1)"
      ],
      "execution_count": 0,
      "outputs": []
    },
    {
      "cell_type": "code",
      "metadata": {
        "id": "3RjBsU8_PSqp",
        "colab_type": "code",
        "outputId": "20e4e75a-8b2d-4be7-883a-4d044114d430",
        "colab": {
          "base_uri": "https://localhost:8080/",
          "height": 736
        }
      },
      "source": [
        "history_cnn = model_cnn.fit(X_train, \n",
        "                            y_train, \n",
        "                            epochs=10,\n",
        "                            batch_size=128,\n",
        "                            validation_split=0.2,\n",
        "                            callbacks=[checkpoint_callback_cnn])"
      ],
      "execution_count": 0,
      "outputs": [
        {
          "output_type": "stream",
          "text": [
            "Epoch 1/10\n",
            "744/750 [============================>.] - ETA: 0s - loss: 0.4220 - accuracy: 0.8623\n",
            "Epoch 00001: val_accuracy improved from -inf to 0.89417, saving model to best_model_cnn.h5\n",
            "750/750 [==============================] - 6s 7ms/step - loss: 0.4209 - accuracy: 0.8626 - val_loss: 0.3050 - val_accuracy: 0.8942\n",
            "Epoch 2/10\n",
            "746/750 [============================>.] - ETA: 0s - loss: 0.2325 - accuracy: 0.9220\n",
            "Epoch 00002: val_accuracy did not improve from 0.89417\n",
            "750/750 [==============================] - 6s 8ms/step - loss: 0.2325 - accuracy: 0.9220 - val_loss: 0.3158 - val_accuracy: 0.8902\n",
            "Epoch 3/10\n",
            "750/750 [==============================] - ETA: 0s - loss: 0.1845 - accuracy: 0.9369\n",
            "Epoch 00003: val_accuracy did not improve from 0.89417\n",
            "750/750 [==============================] - 6s 8ms/step - loss: 0.1845 - accuracy: 0.9369 - val_loss: 0.3477 - val_accuracy: 0.8833\n",
            "Epoch 4/10\n",
            "749/750 [============================>.] - ETA: 0s - loss: 0.1426 - accuracy: 0.9522\n",
            "Epoch 00004: val_accuracy did not improve from 0.89417\n",
            "750/750 [==============================] - 6s 8ms/step - loss: 0.1426 - accuracy: 0.9522 - val_loss: 0.3860 - val_accuracy: 0.8787\n",
            "Epoch 5/10\n",
            "746/750 [============================>.] - ETA: 0s - loss: 0.1004 - accuracy: 0.9672\n",
            "Epoch 00005: val_accuracy did not improve from 0.89417\n",
            "750/750 [==============================] - 6s 8ms/step - loss: 0.1006 - accuracy: 0.9671 - val_loss: 0.4363 - val_accuracy: 0.8760\n",
            "Epoch 6/10\n",
            "744/750 [============================>.] - ETA: 0s - loss: 0.0657 - accuracy: 0.9802\n",
            "Epoch 00006: val_accuracy did not improve from 0.89417\n",
            "750/750 [==============================] - 6s 8ms/step - loss: 0.0657 - accuracy: 0.9802 - val_loss: 0.5015 - val_accuracy: 0.8734\n",
            "Epoch 7/10\n",
            "750/750 [==============================] - ETA: 0s - loss: 0.0423 - accuracy: 0.9879\n",
            "Epoch 00007: val_accuracy did not improve from 0.89417\n",
            "750/750 [==============================] - 6s 8ms/step - loss: 0.0423 - accuracy: 0.9879 - val_loss: 0.5623 - val_accuracy: 0.8695\n",
            "Epoch 8/10\n",
            "750/750 [==============================] - ETA: 0s - loss: 0.0300 - accuracy: 0.9924\n",
            "Epoch 00008: val_accuracy did not improve from 0.89417\n",
            "750/750 [==============================] - 6s 8ms/step - loss: 0.0300 - accuracy: 0.9924 - val_loss: 0.6279 - val_accuracy: 0.8676\n",
            "Epoch 9/10\n",
            "746/750 [============================>.] - ETA: 0s - loss: 0.0247 - accuracy: 0.9940\n",
            "Epoch 00009: val_accuracy did not improve from 0.89417\n",
            "750/750 [==============================] - 6s 8ms/step - loss: 0.0248 - accuracy: 0.9940 - val_loss: 0.6616 - val_accuracy: 0.8674\n",
            "Epoch 10/10\n",
            "743/750 [============================>.] - ETA: 0s - loss: 0.0208 - accuracy: 0.9952\n",
            "Epoch 00010: val_accuracy did not improve from 0.89417\n",
            "750/750 [==============================] - 6s 8ms/step - loss: 0.0208 - accuracy: 0.9952 - val_loss: 0.6978 - val_accuracy: 0.8662\n"
          ],
          "name": "stdout"
        }
      ]
    },
    {
      "cell_type": "code",
      "metadata": {
        "id": "D87iUZmNP0rk",
        "colab_type": "code",
        "outputId": "3a08601d-e49e-4e84-85f0-baf1d9b344ba",
        "colab": {
          "base_uri": "https://localhost:8080/",
          "height": 280
        }
      },
      "source": [
        "plt.plot(history_cnn.history['accuracy'], \n",
        "         label='Доля верных ответов на обучающем наборе')\n",
        "plt.plot(history_cnn.history['val_accuracy'], \n",
        "         label='Доля верных ответов на проверочном наборе')\n",
        "plt.xlabel('Эпоха обучения')\n",
        "plt.ylabel('Доля верных ответов')\n",
        "plt.legend()\n",
        "plt.show()"
      ],
      "execution_count": 0,
      "outputs": [
        {
          "output_type": "display_data",
          "data": {
            "image/png": "[encoded data removed]",
            "text/plain": [
              "<Figure size 432x288 with 1 Axes>"
            ]
          },
          "metadata": {
            "tags": [],
            "needs_background": "light"
          }
        }
      ]
    },
    {
      "cell_type": "code",
      "metadata": {
        "id": "pcS-BD4wzyEM",
        "colab_type": "code",
        "colab": {}
      },
      "source": [
        "model_cnn.load_weights(model_cnn_save_path)"
      ],
      "execution_count": 0,
      "outputs": []
    },
    {
      "cell_type": "code",
      "metadata": {
        "id": "bn9MpVTCwzqa",
        "colab_type": "code",
        "outputId": "3937d4cc-ccf9-4729-a1b7-753e288fecfe",
        "colab": {
          "base_uri": "https://localhost:8080/",
          "height": 70
        }
      },
      "source": [
        "y_pred = model_cnn.predict(X_test).argmax(1)+1\n",
        "\n",
        "f1_scr  = f1_score(y_pred, y_test_, average='macro')\n",
        "acc_scr = accuracy_score(y_pred, y_test_)\n",
        "crr_scr = matthews_corrcoef(y_pred, y_test_)\n",
        "\n",
        "print('F1:   %.3f' % f1_scr)\n",
        "print('ACC:  %.3f' % acc_scr)\n",
        "print('CORR: %.3f' % crr_scr)"
      ],
      "execution_count": 0,
      "outputs": [
        {
          "output_type": "stream",
          "text": [
            "F1:   0.899\n",
            "ACC:  0.899\n",
            "CORR: 0.866\n"
          ],
          "name": "stdout"
        }
      ]
    },
    {
      "cell_type": "markdown",
      "metadata": {
        "colab_type": "text",
        "id": "VFUTMuKL8SNY"
      },
      "source": [
        "## *Рекурентная нейронная сеть* **LSTM predict**"
      ]
    },
    {
      "cell_type": "code",
      "metadata": {
        "colab_type": "code",
        "id": "s_ZqIgqS8SNa",
        "colab": {}
      },
      "source": [
        "model_lstm = Sequential()\n",
        "model_lstm.add(Embedding(num_words, 32, input_length=max_news_len))\n",
        "model_lstm.add(LSTM(8))\n",
        "model_lstm.add(Dense(4, activation='softmax'))"
      ],
      "execution_count": 0,
      "outputs": []
    },
    {
      "cell_type": "code",
      "metadata": {
        "colab_type": "code",
        "id": "IoxJ8kNf8SNc",
        "colab": {}
      },
      "source": [
        "model_lstm.compile(optimizer='adam', \n",
        "              loss='categorical_crossentropy', \n",
        "              metrics=['accuracy'])"
      ],
      "execution_count": 0,
      "outputs": []
    },
    {
      "cell_type": "code",
      "metadata": {
        "colab_type": "code",
        "outputId": "e08326bd-77c6-4495-a918-a9528bef2c1a",
        "id": "KNc2OK3j8SNe",
        "colab": {
          "base_uri": "https://localhost:8080/",
          "height": 268
        }
      },
      "source": [
        "model_lstm.summary()"
      ],
      "execution_count": 0,
      "outputs": [
        {
          "output_type": "stream",
          "text": [
            "Model: \"sequential_33\"\n",
            "_________________________________________________________________\n",
            "Layer (type)                 Output Shape              Param #   \n",
            "=================================================================\n",
            "embedding_33 (Embedding)     (None, 30, 32)            320000    \n",
            "_________________________________________________________________\n",
            "lstm_7 (LSTM)                (None, 8)                 1312      \n",
            "_________________________________________________________________\n",
            "dense_54 (Dense)             (None, 4)                 36        \n",
            "=================================================================\n",
            "Total params: 321,348\n",
            "Trainable params: 321,348\n",
            "Non-trainable params: 0\n",
            "_________________________________________________________________\n"
          ],
          "name": "stdout"
        }
      ]
    },
    {
      "cell_type": "markdown",
      "metadata": {
        "colab_type": "text",
        "id": "KzJtvcIa8SNh"
      },
      "source": [
        "Создаем callback для сохранения нейронной сети на каждой эпохе, если качество работы на проверочном наборе данных улучшилось. Сеть сохраняется в файл `best_model.h5`"
      ]
    },
    {
      "cell_type": "code",
      "metadata": {
        "colab_type": "code",
        "id": "qCu0Xlyj8SNi",
        "colab": {}
      },
      "source": [
        "model_lstm_save_path = 'best_model_lstm.h5'\n",
        "checkpoint_callback_lstm = ModelCheckpoint(model_lstm_save_path, \n",
        "                                      monitor='val_accuracy',\n",
        "                                      save_best_only=True,\n",
        "                                      verbose=1)"
      ],
      "execution_count": 0,
      "outputs": []
    },
    {
      "cell_type": "code",
      "metadata": {
        "colab_type": "code",
        "outputId": "d49db883-fef0-4fa2-be37-af5644e1f6c9",
        "id": "znNeO0lO8SNk",
        "colab": {
          "base_uri": "https://localhost:8080/",
          "height": 736
        }
      },
      "source": [
        "history_lstm = model_lstm.fit(X_train, \n",
        "                              y_train, \n",
        "                              epochs=10,\n",
        "                              batch_size=128,\n",
        "                              validation_split=0.2,\n",
        "                              callbacks=[checkpoint_callback_lstm])"
      ],
      "execution_count": 0,
      "outputs": [
        {
          "output_type": "stream",
          "text": [
            "Epoch 1/10\n",
            "744/750 [============================>.] - ETA: 0s - loss: 0.5275 - accuracy: 0.8320\n",
            "Epoch 00001: val_accuracy improved from -inf to 0.88842, saving model to best_model_lstm.h5\n",
            "750/750 [==============================] - 6s 8ms/step - loss: 0.5256 - accuracy: 0.8327 - val_loss: 0.3344 - val_accuracy: 0.8884\n",
            "Epoch 2/10\n",
            "750/750 [==============================] - ETA: 0s - loss: 0.2593 - accuracy: 0.9191\n",
            "Epoch 00002: val_accuracy improved from 0.88842 to 0.88987, saving model to best_model_lstm.h5\n",
            "750/750 [==============================] - 6s 8ms/step - loss: 0.2593 - accuracy: 0.9191 - val_loss: 0.3244 - val_accuracy: 0.8899\n",
            "Epoch 3/10\n",
            "749/750 [============================>.] - ETA: 0s - loss: 0.2143 - accuracy: 0.9323\n",
            "Epoch 00003: val_accuracy did not improve from 0.88987\n",
            "750/750 [==============================] - 6s 8ms/step - loss: 0.2144 - accuracy: 0.9323 - val_loss: 0.3363 - val_accuracy: 0.8865\n",
            "Epoch 4/10\n",
            "747/750 [============================>.] - ETA: 0s - loss: 0.1862 - accuracy: 0.9410\n",
            "Epoch 00004: val_accuracy did not improve from 0.88987\n",
            "750/750 [==============================] - 6s 8ms/step - loss: 0.1862 - accuracy: 0.9410 - val_loss: 0.3484 - val_accuracy: 0.8849\n",
            "Epoch 5/10\n",
            "744/750 [============================>.] - ETA: 0s - loss: 0.1625 - accuracy: 0.9473\n",
            "Epoch 00005: val_accuracy did not improve from 0.88987\n",
            "750/750 [==============================] - 6s 8ms/step - loss: 0.1628 - accuracy: 0.9473 - val_loss: 0.3731 - val_accuracy: 0.8794\n",
            "Epoch 6/10\n",
            "746/750 [============================>.] - ETA: 0s - loss: 0.1424 - accuracy: 0.9530\n",
            "Epoch 00006: val_accuracy did not improve from 0.88987\n",
            "750/750 [==============================] - 6s 7ms/step - loss: 0.1425 - accuracy: 0.9529 - val_loss: 0.4020 - val_accuracy: 0.8773\n",
            "Epoch 7/10\n",
            "747/750 [============================>.] - ETA: 0s - loss: 0.1234 - accuracy: 0.9589\n",
            "Epoch 00007: val_accuracy did not improve from 0.88987\n",
            "750/750 [==============================] - 6s 8ms/step - loss: 0.1234 - accuracy: 0.9589 - val_loss: 0.4366 - val_accuracy: 0.8723\n",
            "Epoch 8/10\n",
            "745/750 [============================>.] - ETA: 0s - loss: 0.1078 - accuracy: 0.9638\n",
            "Epoch 00008: val_accuracy did not improve from 0.88987\n",
            "750/750 [==============================] - 6s 8ms/step - loss: 0.1078 - accuracy: 0.9637 - val_loss: 0.4853 - val_accuracy: 0.8690\n",
            "Epoch 9/10\n",
            "744/750 [============================>.] - ETA: 0s - loss: 0.0945 - accuracy: 0.9686\n",
            "Epoch 00009: val_accuracy did not improve from 0.88987\n",
            "750/750 [==============================] - 6s 8ms/step - loss: 0.0948 - accuracy: 0.9686 - val_loss: 0.5101 - val_accuracy: 0.8668\n",
            "Epoch 10/10\n",
            "750/750 [==============================] - ETA: 0s - loss: 0.0835 - accuracy: 0.9722\n",
            "Epoch 00010: val_accuracy did not improve from 0.88987\n",
            "750/750 [==============================] - 6s 8ms/step - loss: 0.0835 - accuracy: 0.9722 - val_loss: 0.5489 - val_accuracy: 0.8655\n"
          ],
          "name": "stdout"
        }
      ]
    },
    {
      "cell_type": "code",
      "metadata": {
        "colab_type": "code",
        "outputId": "846ee0cf-9285-4765-adad-94fe978c6f81",
        "id": "iFTVTtcM8SNm",
        "colab": {
          "base_uri": "https://localhost:8080/",
          "height": 279
        }
      },
      "source": [
        "plt.plot(history_lstm.history['accuracy'], \n",
        "         label='Доля верных ответов на обучающем наборе')\n",
        "plt.plot(history_lstm.history['val_accuracy'], \n",
        "         label='Доля верных ответов на проверочном наборе')\n",
        "plt.xlabel('Эпоха обучения')\n",
        "plt.ylabel('Доля верных ответов')\n",
        "plt.legend()\n",
        "plt.show()"
      ],
      "execution_count": 0,
      "outputs": [
        {
          "output_type": "display_data",
          "data": {
            "image/png": "[encoded data removed]",
            "text/plain": [
              "<Figure size 432x288 with 1 Axes>"
            ]
          },
          "metadata": {
            "tags": [],
            "needs_background": "light"
          }
        }
      ]
    },
    {
      "cell_type": "code",
      "metadata": {
        "id": "vfNdiM2A0uzZ",
        "colab_type": "code",
        "colab": {}
      },
      "source": [
        "model_lstm.load_weights(model_lstm_save_path)"
      ],
      "execution_count": 0,
      "outputs": []
    },
    {
      "cell_type": "code",
      "metadata": {
        "id": "FGTCipFu0qO7",
        "colab_type": "code",
        "outputId": "94c5b2a0-fa58-474b-f978-0ee3ea36b9b0",
        "colab": {
          "base_uri": "https://localhost:8080/",
          "height": 70
        }
      },
      "source": [
        "y_pred = model_lstm.predict(X_test).argmax(1)+1\n",
        "\n",
        "f1_scr  = f1_score(y_pred, y_test_, average='macro')\n",
        "acc_scr = accuracy_score(y_pred, y_test_)\n",
        "crr_scr = matthews_corrcoef(y_pred, y_test_)\n",
        "\n",
        "print('F1:   %.3f' % f1_scr)\n",
        "print('ACC:  %.3f' % acc_scr)\n",
        "print('CORR: %.3f' % crr_scr)"
      ],
      "execution_count": 0,
      "outputs": [
        {
          "output_type": "stream",
          "text": [
            "F1:   0.897\n",
            "ACC:  0.897\n",
            "CORR: 0.863\n"
          ],
          "name": "stdout"
        }
      ]
    },
    {
      "cell_type": "markdown",
      "metadata": {
        "id": "pJ-TPP4769aC",
        "colab_type": "text"
      },
      "source": [
        "**Заключение экспериметов**\n",
        "*Как видим, результаты всех архитектур превосходят результаты классической модели такой как KNN. Преимущество хоть и не значительно, но объясняется довольно более быстрой эксплуатацией (не нужно запоминать все 120000 объектов) и довольно примитивным наборов параметров (всего 8 циклов для LSTM и 1 слоем для CNN).*\n",
        "\n",
        "**KNN:**\n",
        "*  F1:   0.894\n",
        "*  ACC:  0.894\n",
        "*  CORR: 0.859\n",
        "\n",
        "**NN:**\n",
        "*  F1:   0.896\n",
        "*  ACC:  0.896\n",
        "*  CORR: 0.862\n",
        "\n",
        "**CNN:**\n",
        "*  F1:   0.899\n",
        "*  ACC:  0.899\n",
        "*  CORR: 0.866\n",
        "\n",
        "**RNN:**\n",
        "*  F1:   0.897\n",
        "*  ACC:  0.897\n",
        "*  CORR: 0.863"
      ]
    }
  ]
}